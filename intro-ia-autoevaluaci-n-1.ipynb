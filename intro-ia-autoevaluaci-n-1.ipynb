{
 "cells": [
  {
   "cell_type": "markdown",
   "id": "6339dc20",
   "metadata": {
    "papermill": {
     "duration": 0.005846,
     "end_time": "2023-01-16T07:19:32.922906",
     "exception": false,
     "start_time": "2023-01-16T07:19:32.917060",
     "status": "completed"
    },
    "tags": []
   },
   "source": [
    "# Un ejemplo como introducción. \n",
    "## Autoevaluación."
   ]
  },
  {
   "cell_type": "markdown",
   "id": "e8d72f80",
   "metadata": {
    "papermill": {
     "duration": 0.004101,
     "end_time": "2023-01-16T07:19:32.931664",
     "exception": false,
     "start_time": "2023-01-16T07:19:32.927563",
     "status": "completed"
    },
    "tags": []
   },
   "source": [
    "**1 - En el vídeo que cuenta la historia del Profesor Ashenfelter algunos expertos comentan que su fórmula no tiene en cuenta factores como la poda de las viñas o las levaduras utilizadas en la fermentación del vino. ¿Por que crees que el Profesor no incluyó estos factores como variables de entrada del modelo?**\n",
    "\n",
    "1. Porque pensaba que estos factores no influían en la calidad del vino.\n",
    "1. Su tésis era que, aunque estos factores fuesen importantes, no lo eran tanto como las condiciones meteorológicas.\n",
    "1. Porque recopilar esta información iba a ser casi imposible. "
   ]
  },
  {
   "cell_type": "markdown",
   "id": "9d8427fe",
   "metadata": {
    "_kg_hide-input": true,
    "_kg_hide-output": false,
    "papermill": {
     "duration": 0.004072,
     "end_time": "2023-01-16T07:19:32.940101",
     "exception": false,
     "start_time": "2023-01-16T07:19:32.936029",
     "status": "completed"
    },
    "tags": []
   },
   "source": [
    "Son ciertas la 2 y la 3. Sin duda factores como la poda o las levaduras influyen en la calidad del vino, pero no tanto como la meteorología. Ademas sería muy difícil recopilar esta información, teniendo en cuenta la antigüedad de los vinos más añejos."
   ]
  },
  {
   "cell_type": "markdown",
   "id": "38e8c2c7",
   "metadata": {
    "papermill": {
     "duration": 0.004127,
     "end_time": "2023-01-16T07:19:32.948621",
     "exception": false,
     "start_time": "2023-01-16T07:19:32.944494",
     "status": "completed"
    },
    "tags": []
   },
   "source": [
    "**2 - ¿En qué fases de la construcción de un modelo de aprendizaje máquina es importante la participación de los expertos en la materia?**\n",
    "\n",
    "1. En la definición del problema a resolver.\n",
    "1. En la selección de las variables que afectan al resultado.\n",
    "1. En la recopilación de los datos de entrenamiento.\n"
   ]
  },
  {
   "cell_type": "markdown",
   "id": "152855d6",
   "metadata": {
    "_kg_hide-input": true,
    "papermill": {
     "duration": 0.004576,
     "end_time": "2023-01-16T07:19:32.957842",
     "exception": false,
     "start_time": "2023-01-16T07:19:32.953266",
     "status": "completed"
    },
    "tags": []
   },
   "source": [
    "Todas son correctas. Nadie conoce mejor sus problemas y sus datos que los expertos en la materia."
   ]
  },
  {
   "cell_type": "markdown",
   "id": "b0551205",
   "metadata": {
    "papermill": {
     "duration": 0.004023,
     "end_time": "2023-01-16T07:19:32.966333",
     "exception": false,
     "start_time": "2023-01-16T07:19:32.962310",
     "status": "completed"
    },
    "tags": []
   },
   "source": [
    "**3 - En un proyecto de aprendizaje máquina especialmente crítico, con un presupuesto holgado ¿Cómo implementarías los modelos? Elige una respuesta:**\n",
    "1. Programando cada modelo y algoritmo de optimización desde cero, para garantizar su calidad.\n",
    "1. Como primera opción optarías por las librerías 'open source' más populares.\n",
    "1. Optarías por productos propietarios, con coste de licencia pero de mayor calidad."
   ]
  },
  {
   "cell_type": "markdown",
   "id": "59823e09",
   "metadata": {
    "_kg_hide-input": true,
    "papermill": {
     "duration": 0.004116,
     "end_time": "2023-01-16T07:19:32.974832",
     "exception": false,
     "start_time": "2023-01-16T07:19:32.970716",
     "status": "completed"
    },
    "tags": []
   },
   "source": [
    "La correcta es la 2. La opción más inteligente será siempre usar las conocidas librerías de fuente abierta, que son de excelente calidad. Sólo en casos muy concretos podemos optar por productos propietarios especializados en el problema que necesitemos resolver. Por último, programar desde cero un modelo sólo tiene sentido en proyectos de investigación, por ejemplo para crear un modelo nuevo."
   ]
  },
  {
   "cell_type": "markdown",
   "id": "9fdf4e4e",
   "metadata": {
    "papermill": {
     "duration": 0.004012,
     "end_time": "2023-01-16T07:19:32.983162",
     "exception": false,
     "start_time": "2023-01-16T07:19:32.979150",
     "status": "completed"
    },
    "tags": []
   },
   "source": [
    "**4 - En cada iteración de descenso de gradiente ...**\n",
    "\n",
    "1. Se añaden datos poco a poco al conjunto de datos de entrenamiento.\n",
    "1. Se modifican levemente los parámetros del modelo.\n",
    "1. Se modifica levemente el ratio de aprendizaje.\n",
    "1. Se reduce el valor de la función de pérdida."
   ]
  },
  {
   "cell_type": "markdown",
   "id": "788d362d",
   "metadata": {
    "_kg_hide-input": true,
    "papermill": {
     "duration": 0.004056,
     "end_time": "2023-01-16T07:19:32.991517",
     "exception": false,
     "start_time": "2023-01-16T07:19:32.987461",
     "status": "completed"
    },
    "tags": []
   },
   "source": [
    "Son correctas la 2 y la 4. En una época se modifican levemente los parámetros del modelo, reduciendo también levemente el error medio, es decir, el valor de la función de pérdida. El conjunto de  datos de entrenamiento es constante durante todo el entrenamiento. El ratio de aprendizaje, en la versión más sencilla del descenso de gradiente, también es constante."
   ]
  },
  {
   "cell_type": "markdown",
   "id": "d638a33b",
   "metadata": {
    "papermill": {
     "duration": 0.005021,
     "end_time": "2023-01-16T07:19:33.001247",
     "exception": false,
     "start_time": "2023-01-16T07:19:32.996226",
     "status": "completed"
    },
    "tags": []
   },
   "source": [
    "**5 - ¿De qué depende el coste, en potencia de computación, del entrenamiento de un modelo de aprendizaje máquina mediante descenso de gradiente?**\n",
    "\n",
    "1. Del tamaño del conjunto de datos de entrenamiento.\n",
    "1. Del número de parámetros del modelo.\n",
    "1. De una adecuada selección de los hiperparámetros del modelo.\n",
    "1. De la dificultad de recopilar los datos de entrenamiento.\n"
   ]
  },
  {
   "cell_type": "markdown",
   "id": "0782137a",
   "metadata": {
    "_kg_hide-input": true,
    "papermill": {
     "duration": 0.004327,
     "end_time": "2023-01-16T07:19:33.010553",
     "exception": false,
     "start_time": "2023-01-16T07:19:33.006226",
     "status": "completed"
    },
    "tags": []
   },
   "source": [
    "Todas son correctas excepto la última. El coste de recopilar los datos de entrenamiento puede ser muy alto, puede que el coste más importante en un proyecto de ciencia de datos, pero no afecta al coste de computación de entrenamiento del modelo. En cambio, el tamaño del conjunto de datos de entrenamiento y el número de parámetros del modelo son directamente proporcionales al número de operaciones matemáticas de cada época, y los hiperparámetros influyen en el número de épocas necesarias para que el modelo converja."
   ]
  },
  {
   "cell_type": "markdown",
   "id": "eb607ee7",
   "metadata": {
    "papermill": {
     "duration": 0.004085,
     "end_time": "2023-01-16T07:19:33.020832",
     "exception": false,
     "start_time": "2023-01-16T07:19:33.016747",
     "status": "completed"
    },
    "tags": []
   },
   "source": [
    "**6 - Queremos usar el método del Profesor Ashenfelter con vinos andaluces y encontramos que su fórmula funciona pero no tan bien como con vinos de Burdeos. ¿Por qué crees que puede ser?**\n",
    "\n",
    "1. Porque los métodos de elaboración son muy diferentes.\n",
    "1. Porque los precios de los vinos andaluces tienen poco que ver con los de Burdeos.\n",
    "1. Porque las condiciones meteorológicas son muy diferentes.\n",
    "1. Porque el descenso de gradiente no puede funcionar en España.\n"
   ]
  },
  {
   "cell_type": "markdown",
   "id": "b9b7a3b9",
   "metadata": {
    "_kg_hide-input": true,
    "papermill": {
     "duration": 0.004328,
     "end_time": "2023-01-16T07:19:33.030117",
     "exception": false,
     "start_time": "2023-01-16T07:19:33.025789",
     "status": "completed"
    },
    "tags": []
   },
   "source": [
    "Son correctas la 2 y la 3. Aunque los métodos pueden ser algo diferentes, la meteorología seguirá siendo la variable más importante, pero los datos de entrenamiento tienen que ser los que el modelo se va a encontrar en 'inferencia', por lo que deberíamos entrenar el modelo con los datos meteorológicos y los precios de los vinos andaluces."
   ]
  },
  {
   "cell_type": "markdown",
   "id": "ae1dce24",
   "metadata": {
    "papermill": {
     "duration": 0.004013,
     "end_time": "2023-01-16T07:19:33.038611",
     "exception": false,
     "start_time": "2023-01-16T07:19:33.034598",
     "status": "completed"
    },
    "tags": []
   },
   "source": [
    "**7 - El departamento de salud nos propone un proyecto que incluye la adquisición de nuevos equipos de tomografía computerizada para todos los centros de salud de la comunidad, y la construcción de un modelo de aprendizaje máquina que recibirá como entrada una tomografía y ofrecerá como salida una estimación diagnóstica. ¿Qué recomendarías? Elige una respuesta:**\n",
    "\n",
    "1. Adquirir e instalar los equipos, empezar a usarlos almacenando las tomografías y los diagnósticos del personal de radiología y, después de un tiempo entrenar el modelo con esos datos.\n",
    "1. Entrenar el modelo con las tomografías de los equipos a sustituir y los diagnósticos correspondientes y, sólo una vez alcanzado el rendimiento esperado, adquirir los nuevos tomógramos para usarlos con el modelo creado.\n",
    "1. Adquirir sólo un tomógrafo y entrenar el modelo con sus tomografías y los diagnósticos correspondientes y, sólo una vez alcanzado el rendimiento esperado, adquirir el resto de los tomógrafos para usarlos con el modelo creado."
   ]
  },
  {
   "cell_type": "markdown",
   "id": "76f8e424",
   "metadata": {
    "_kg_hide-input": true,
    "papermill": {
     "duration": 0.003946,
     "end_time": "2023-01-16T07:19:33.046831",
     "exception": false,
     "start_time": "2023-01-16T07:19:33.042885",
     "status": "completed"
    },
    "tags": []
   },
   "source": [
    "La correcta es la 3. Es recomendable realizar una prueba de concepto para validar la viabilidad del modelo antes de invertir en los nuevos equipos. Además, es fundamental entrenar el modelo con datos de entrenamiento representativos, idénticos a los que el sistema se va a encontrar en producción. Según la primera respuesta corremos el riesgo de no encontrar un modelo suficientemente bueno después de adquirir el nuevo equipamiento. Según la segunda corremos el riesgo de que las nuevas tomografías sean diferentes de las antiguas y el conjunto de datos de entrenamiento no sea representativo, y que por lo tanto el rendimiento del modelo con las nuevas tomografías sea menor del esperado."
   ]
  },
  {
   "cell_type": "markdown",
   "id": "4e60aa73",
   "metadata": {
    "papermill": {
     "duration": 0.004063,
     "end_time": "2023-01-16T07:19:33.055152",
     "exception": false,
     "start_time": "2023-01-16T07:19:33.051089",
     "status": "completed"
    },
    "tags": []
   },
   "source": [
    "**8 - Imagina que construimos un modelo de aprendizaje máquina para estimar el riesgo de que un niño sufra \"bulling\". Los datos de entrenamiento son los de otros niños que han sufrido bulling anteriormente, como la renta familiar, etnia, edad, sexo, es decir, información personal protegida por la normativa de protección de datos. ¿Corremos riesgo de infringir la normativa si publicamos el modelo? Elige una respuesta:**\n",
    "\n",
    "1. Sí, porque al publicar el modelo se publican los datos protegidos.\n",
    "1. No, porque el modelo entrenado ya no necesita los datos de entrenamiento, y sólo tenemos que publicar el modelo.\n",
    "1. Sí, porque aunque sólo publiquemos el modelo entrenado, de él se pueden extraer los datos de entrenamiento."
   ]
  },
  {
   "cell_type": "markdown",
   "id": "b68f082d",
   "metadata": {
    "_kg_hide-input": true,
    "papermill": {
     "duration": 0.004149,
     "end_time": "2023-01-16T07:19:33.064006",
     "exception": false,
     "start_time": "2023-01-16T07:19:33.059857",
     "status": "completed"
    },
    "tags": []
   },
   "source": [
    "La correcta es la 2. Una vez entrenado un modelo los datos de entrenamiento no son necesarios. Además, el modelo sólo almacena en sus parámetros los patrones detectados, que son información estadística; no hay información personal."
   ]
  },
  {
   "cell_type": "markdown",
   "id": "3f462b73",
   "metadata": {
    "papermill": {
     "duration": 0.005413,
     "end_time": "2023-01-16T07:19:33.074000",
     "exception": false,
     "start_time": "2023-01-16T07:19:33.068587",
     "status": "completed"
    },
    "tags": []
   },
   "source": [
    "**9 - Imagina que una prestigiosa publicación mensual para amantes del vino publicara, desde 1950, las opiniones de los expertos sobre los vinos jóvenes de Burdeos y la Borgoña, otorgando una puntuación de uno a cinco sobre la futura calidad del vino, basada en sus propiedades organolépticas. ¿Serviría para establecer una línea base mejor que una aleatoria? Elige una respuesta:**\n",
    "\n",
    "1. Sí, pero habría que establecer una relación entre la puntuación otorgada y el precio alcanzado por los vinos en las subastas.\n",
    "1. Sí, pero habría que incluir las propiedades organolépticas como variables del modelo.\n",
    "1. No, una línea base aleatoria es mejor porque así es más fácil encontrar un modelo que la mejore."
   ]
  },
  {
   "cell_type": "markdown",
   "id": "222967d5",
   "metadata": {
    "_kg_hide-input": true,
    "papermill": {
     "duration": 0.004938,
     "end_time": "2023-01-16T07:19:33.084266",
     "exception": false,
     "start_time": "2023-01-16T07:19:33.079328",
     "status": "completed"
    },
    "tags": []
   },
   "source": [
    "La correcta es la 1. Una línea base a partir de un dato objetivo, como una puntuación de uno a cinco, es mejor que nuestra línea base aleatoria, siempre que encontremos la manera de relacionar esas puntuaciones con la variable de salida del modelo, que es el precio alcanzado en las subastas por cada uno de los vinos."
   ]
  },
  {
   "cell_type": "markdown",
   "id": "9d9c1df9",
   "metadata": {
    "papermill": {
     "duration": 0.004089,
     "end_time": "2023-01-16T07:19:33.092832",
     "exception": false,
     "start_time": "2023-01-16T07:19:33.088743",
     "status": "completed"
    },
    "tags": []
   },
   "source": [
    "**10 - Usar como variable de salida el logaritmo del precio del vino hace que su relación con las variables de entrada sea más lineal, de manera que la regresión lineal se adapta mejor al problema. No obstante, si repetimos el experimento sin hacer esta transformación, aplicando el modelo con el precio del vino como variable de salida en lugar de su logaritmo, el error medio (rmse) es mayor. ¿Cómo interpretas este resultado? Elige una respuesta:**\n",
    "\n",
    "1. Si el error es mayor quiere decir que en realidad el modelo funciona mejor sin aplicar el logaritmo a los precios.\n",
    "2. El error medio tiene que ser menor sí o sí. Si es mayor es que nos hemos equivocado al repetir el experimento.\n",
    "3. El logaritmo de 5000 (el precio del vino más caro) es 8,5. Si en lugar de los logaritmos usamos los precios, los números son mayores, por lo que el error medio será mayor, sin que esto tenga que ver con la precisión del modelo."
   ]
  },
  {
   "cell_type": "markdown",
   "id": "b51b1813",
   "metadata": {
    "_kg_hide-input": true,
    "papermill": {
     "duration": 0.00407,
     "end_time": "2023-01-16T07:19:33.101322",
     "exception": false,
     "start_time": "2023-01-16T07:19:33.097252",
     "status": "completed"
    },
    "tags": []
   },
   "source": [
    "La correcta es la 3. No podemos comparar dos errores medios si se calculan con diferentes magnitudes. Para poder hacer la comparación tendríamos que haber entrenado el modelo con los precios como variable de salida pero calculando después el error medio sobre los logaritmos de los precios."
   ]
  }
 ],
 "metadata": {
  "kernelspec": {
   "display_name": "Python 3",
   "language": "python",
   "name": "python3"
  },
  "language_info": {
   "codemirror_mode": {
    "name": "ipython",
    "version": 3
   },
   "file_extension": ".py",
   "mimetype": "text/x-python",
   "name": "python",
   "nbconvert_exporter": "python",
   "pygments_lexer": "ipython3",
   "version": "3.7.12"
  },
  "papermill": {
   "default_parameters": {},
   "duration": 9.941021,
   "end_time": "2023-01-16T07:19:33.832991",
   "environment_variables": {},
   "exception": null,
   "input_path": "__notebook__.ipynb",
   "output_path": "__notebook__.ipynb",
   "parameters": {},
   "start_time": "2023-01-16T07:19:23.891970",
   "version": "2.3.4"
  }
 },
 "nbformat": 4,
 "nbformat_minor": 5
}
