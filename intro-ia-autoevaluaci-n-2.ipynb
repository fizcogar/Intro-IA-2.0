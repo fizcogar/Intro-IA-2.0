{
 "cells": [
  {
   "cell_type": "markdown",
   "id": "831c5549",
   "metadata": {
    "papermill": {
     "duration": 0.00315,
     "end_time": "2023-01-16T07:23:34.210368",
     "exception": false,
     "start_time": "2023-01-16T07:23:34.207218",
     "status": "completed"
    },
    "tags": []
   },
   "source": [
    "# Definición y casos de uso\n",
    "## Autoevaluación"
   ]
  },
  {
   "cell_type": "markdown",
   "id": "5acacba1",
   "metadata": {
    "papermill": {
     "duration": 0.002218,
     "end_time": "2023-01-16T07:23:34.215326",
     "exception": false,
     "start_time": "2023-01-16T07:23:34.213108",
     "status": "completed"
    },
    "tags": []
   },
   "source": [
    "**1 - Los inspectores de Hacienda se ven obligados a seleccionar cuidadosamente qué personas físicas o jurídicas inspeccionar. Imagina un sistema que, a partir de los datos de inspecciones previas y del resultado de dichas inspecciones, calcula mediante un algoritmo de optimización ciertos parámetros de una función que proporciona una estimación de la probabilidad de que un contribuyente cometa una irregularidad. ¿Se puede considerar que se trata de un sistema de Inteligencia Artificial? De ser así ¿Sería aprendizaje máquina? Elige una respuesta:**\n",
    "\n",
    "1. Es un problema muy sencillo, no puede considerarse inteligencia artificial.\n",
    "1. Es inteligencia artificial, pero no es aprendizaje máquina.\n",
    "1. Es inteligencia artificial, concretamente aprendizaje máquina supervisado."
   ]
  },
  {
   "cell_type": "markdown",
   "id": "e902e626",
   "metadata": {
    "_kg_hide-input": true,
    "papermill": {
     "duration": 0.002214,
     "end_time": "2023-01-16T07:23:34.219954",
     "exception": false,
     "start_time": "2023-01-16T07:23:34.217740",
     "status": "completed"
    },
    "tags": []
   },
   "source": [
    "La correcta es la 3, el enunciado de la pregunta es prácticamente la definición de aprendizaje máquina supervisado."
   ]
  },
  {
   "cell_type": "markdown",
   "id": "9f028aef",
   "metadata": {
    "papermill": {
     "duration": 0.002172,
     "end_time": "2023-01-16T07:23:34.224485",
     "exception": false,
     "start_time": "2023-01-16T07:23:34.222313",
     "status": "completed"
    },
    "tags": []
   },
   "source": [
    "**2 - Imagina un sistema de aprendizaje máquina supervisado para las OCAs (Organismos de Control Autorizados) que, a partir de los datos de inspecciones previas y del resultado de dichas inspecciones calcula una estimación de la probabilidad de que una instalación industrial esté infringiendo la normativa de seguridad.**\n",
    "1. Es aprendizaje máquina supervisado.\n",
    "1. Es un problema de clasificación.\n",
    "1. Es un problema de regresión.\n",
    "1. Es aprendizaje máquina no supervisado."
   ]
  },
  {
   "cell_type": "markdown",
   "id": "816006d3",
   "metadata": {
    "_kg_hide-input": true,
    "papermill": {
     "duration": 0.002184,
     "end_time": "2023-01-16T07:23:34.229132",
     "exception": false,
     "start_time": "2023-01-16T07:23:34.226948",
     "status": "completed"
    },
    "tags": []
   },
   "source": [
    "Son correctas la 1 y la 3. Es regresión, porque calcula una variable contínua, es decir, un número: la probabilidad de una infracción."
   ]
  },
  {
   "cell_type": "markdown",
   "id": "3d8ba22a",
   "metadata": {
    "papermill": {
     "duration": 0.002139,
     "end_time": "2023-01-16T07:23:34.233576",
     "exception": false,
     "start_time": "2023-01-16T07:23:34.231437",
     "status": "completed"
    },
    "tags": []
   },
   "source": [
    "**3 - Un modelo de lenguaje es un modelo de NLP ¿Qué significan estas siglas?**\n",
    "1. 'Neural Language Problem'.\n",
    "1. 'Natural Lineal Process'.\n",
    "1. 'Neural Logarithm Problem'.\n",
    "1. 'Natural Language Process'."
   ]
  },
  {
   "cell_type": "markdown",
   "id": "6f067ffc",
   "metadata": {
    "_kg_hide-input": true,
    "papermill": {
     "duration": 0.002135,
     "end_time": "2023-01-16T07:23:34.238013",
     "exception": false,
     "start_time": "2023-01-16T07:23:34.235878",
     "status": "completed"
    },
    "tags": []
   },
   "source": [
    "La correcta es la 4, en castellano \"procesamiento de lenguaje natural\"."
   ]
  },
  {
   "cell_type": "markdown",
   "id": "dd8cc664",
   "metadata": {
    "papermill": {
     "duration": 0.002103,
     "end_time": "2023-01-16T07:23:34.242448",
     "exception": false,
     "start_time": "2023-01-16T07:23:34.240345",
     "status": "completed"
    },
    "tags": []
   },
   "source": [
    "**4 - En el vector de enteros `45,33,-23, 0, 1245, 22` el 1245 es anómalo, en el sentido de que se 'aleja' de los demás. En aprendizaje máquina hay métodos para la 'detección de anomalías' en grandes conjuntos de datos multidimensionales que encuentran los 'puntos' anómalos, y que se usan, por ejemplo, para mantenimiento predictivo. Por ejemplo, los proveedores de Internet analizan con este método, en tiempo real, los tiempos de respuesta y otros datos del comportamiento de sus 'routers', detectando valores anómalos antes de que los routers se averíen. Este caso de uso ¿Es aprendizaje máquina supervisado o no supervisado? Elige una respuesta:**\n",
    "1. No supervisado, porque la detección se hace sin la supervisión humana.\n",
    "2. Supervisado, porque en el conjunto de datos la variable de salida es la avería correspondiente a los datos anómalos de entrada.\n",
    "3. No supervisado, porque en el conjunto de datos no hay variable de salida, el objetivo es simplemente encontrar valores anómalos.\n",
    "4. Supervisado, porque en última instancia se necesita la supervisión humana."
   ]
  },
  {
   "cell_type": "markdown",
   "id": "d23f0152",
   "metadata": {
    "_kg_hide-input": true,
    "papermill": {
     "duration": 0.00211,
     "end_time": "2023-01-16T07:23:34.246939",
     "exception": false,
     "start_time": "2023-01-16T07:23:34.244829",
     "status": "completed"
    },
    "tags": []
   },
   "source": [
    "La correcta es la 3, es no supervisado. El algoritmo busca simplemente valores que se alejen de los demás, lo que muy frecuentemente indica una inminente avería."
   ]
  },
  {
   "cell_type": "markdown",
   "id": "30039b3f",
   "metadata": {
    "papermill": {
     "duration": 0.002153,
     "end_time": "2023-01-16T07:23:34.251398",
     "exception": false,
     "start_time": "2023-01-16T07:23:34.249245",
     "status": "completed"
    },
    "tags": []
   },
   "source": [
    "**5 - Imagina un modelo de aprendizaje máquina que vence al campeón del mundo de cuatro en raya. ¿Cómo clasificarías el modelo? Elige una respuesta:**\n",
    "\n",
    "1. Como clasificación, porque el algoritmo clasifica las jugadas entre buenas y malas.\n",
    "1. Como aprendizaje profundo, por la complejidad del problema a resolver .\n",
    "1. Como aprendizaje reforzado, aplicable a universos cerrados como los juegos.\n",
    "1. Jugar al cuatro en raya no es inteligencia artificial."
   ]
  },
  {
   "cell_type": "markdown",
   "id": "bf22d037",
   "metadata": {
    "_kg_hide-input": true,
    "papermill": {
     "duration": 0.002336,
     "end_time": "2023-01-16T07:23:34.256282",
     "exception": false,
     "start_time": "2023-01-16T07:23:34.253946",
     "status": "completed"
    },
    "tags": []
   },
   "source": [
    "La respuesta correcta es la 3, es aprendizaje reforzado. Clasificar las jugadas entre buenas y malas no sería suficiente para elegir la mejor jugada, el problema no es lo bastante complejo como para precisar aprendizaje profundo, pero sin duda es inteligencia artificial."
   ]
  },
  {
   "cell_type": "markdown",
   "id": "93436f93",
   "metadata": {
    "papermill": {
     "duration": 0.00226,
     "end_time": "2023-01-16T07:23:34.260980",
     "exception": false,
     "start_time": "2023-01-16T07:23:34.258720",
     "status": "completed"
    },
    "tags": []
   },
   "source": [
    "**6 - ¿Cómo clasificarías el filtro de correo no deseado (spam) de los sistemas de correo electrónico? Cuáles de las siguientes respuestas te parecen correctas:**\n",
    "1. Un problema de clasificación.\n",
    "1. Un problema de regresión.\n",
    "1. Un problema de NLP.\n",
    "1. Un problema de imagen digital."
   ]
  },
  {
   "cell_type": "markdown",
   "id": "64afb737",
   "metadata": {
    "_kg_hide-input": true,
    "papermill": {
     "duration": 0.002216,
     "end_time": "2023-01-16T07:23:34.265672",
     "exception": false,
     "start_time": "2023-01-16T07:23:34.263456",
     "status": "completed"
    },
    "tags": []
   },
   "source": [
    "Son correctas la 1 y la 3, el modelo tiene que clasificar los mensajes entre legítimos o 'spam', y para ello tiene que analizar texto en lenguaje natural."
   ]
  }
 ],
 "metadata": {
  "kernelspec": {
   "display_name": "Python 3",
   "language": "python",
   "name": "python3"
  },
  "language_info": {
   "codemirror_mode": {
    "name": "ipython",
    "version": 3
   },
   "file_extension": ".py",
   "mimetype": "text/x-python",
   "name": "python",
   "nbconvert_exporter": "python",
   "pygments_lexer": "ipython3",
   "version": "3.7.12"
  },
  "papermill": {
   "default_parameters": {},
   "duration": 7.771698,
   "end_time": "2023-01-16T07:23:34.789353",
   "environment_variables": {},
   "exception": null,
   "input_path": "__notebook__.ipynb",
   "output_path": "__notebook__.ipynb",
   "parameters": {},
   "start_time": "2023-01-16T07:23:27.017655",
   "version": "2.3.4"
  }
 },
 "nbformat": 4,
 "nbformat_minor": 5
}
