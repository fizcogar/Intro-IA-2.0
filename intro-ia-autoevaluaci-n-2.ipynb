{
 "cells": [
  {
   "cell_type": "markdown",
   "id": "05c9a2de",
   "metadata": {
    "papermill": {
     "duration": 0.00516,
     "end_time": "2023-01-16T09:08:31.871297",
     "exception": false,
     "start_time": "2023-01-16T09:08:31.866137",
     "status": "completed"
    },
    "tags": []
   },
   "source": [
    "# Definición y casos de uso\n",
    "## Autoevaluación"
   ]
  },
  {
   "cell_type": "markdown",
   "id": "4129c338",
   "metadata": {
    "papermill": {
     "duration": 0.005001,
     "end_time": "2023-01-16T09:08:31.880555",
     "exception": false,
     "start_time": "2023-01-16T09:08:31.875554",
     "status": "completed"
    },
    "tags": []
   },
   "source": [
    "**1 - Los inspectores de Hacienda se ven obligados a seleccionar cuidadosamente qué personas físicas o jurídicas inspeccionar. Imagina un sistema que, a partir de los datos de inspecciones previas y del resultado de dichas inspecciones, calcula mediante un algoritmo de optimización ciertos parámetros de una función que proporciona una estimación de la probabilidad de que un contribuyente cometa una irregularidad. ¿Se puede considerar que se trata de un sistema de Inteligencia Artificial? De ser así ¿Sería aprendizaje máquina? Elige una respuesta:**\n",
    "\n",
    "1. Es un problema muy sencillo, no puede considerarse inteligencia artificial.\n",
    "1. Es inteligencia artificial, pero no es aprendizaje máquina.\n",
    "1. Es inteligencia artificial, concretamente aprendizaje máquina supervisado."
   ]
  },
  {
   "cell_type": "markdown",
   "id": "2303843f",
   "metadata": {
    "_kg_hide-input": true,
    "papermill": {
     "duration": 0.005196,
     "end_time": "2023-01-16T09:08:31.891939",
     "exception": false,
     "start_time": "2023-01-16T09:08:31.886743",
     "status": "completed"
    },
    "tags": []
   },
   "source": [
    "La correcta es la 3, el enunciado de la pregunta es prácticamente la definición de aprendizaje máquina supervisado."
   ]
  },
  {
   "cell_type": "markdown",
   "id": "a0cf64a8",
   "metadata": {
    "papermill": {
     "duration": 0.003524,
     "end_time": "2023-01-16T09:08:31.900676",
     "exception": false,
     "start_time": "2023-01-16T09:08:31.897152",
     "status": "completed"
    },
    "tags": []
   },
   "source": [
    "**2 - Imagina un sistema de aprendizaje máquina supervisado para las OCAs (Organismos de Control Autorizados) que, a partir de los datos de inspecciones previas y del resultado de dichas inspecciones calcula una estimación de la probabilidad de que una instalación industrial esté infringiendo la normativa de seguridad. Cuál de las siguientes afirmaciones te parece correcta:**\n",
    "1. Es aprendizaje máquina supervisado.\n",
    "1. Es un problema de clasificación.\n",
    "1. Es un problema de regresión.\n",
    "1. Es aprendizaje máquina no supervisado."
   ]
  },
  {
   "cell_type": "markdown",
   "id": "c74ce76d",
   "metadata": {
    "_kg_hide-input": true,
    "papermill": {
     "duration": 0.00355,
     "end_time": "2023-01-16T09:08:31.908444",
     "exception": false,
     "start_time": "2023-01-16T09:08:31.904894",
     "status": "completed"
    },
    "tags": []
   },
   "source": [
    "Son correctas la 1 y la 3. Es regresión, porque calcula una variable contínua, es decir, un número: la probabilidad de una infracción."
   ]
  },
  {
   "cell_type": "markdown",
   "id": "93890b97",
   "metadata": {
    "papermill": {
     "duration": 0.004169,
     "end_time": "2023-01-16T09:08:31.917476",
     "exception": false,
     "start_time": "2023-01-16T09:08:31.913307",
     "status": "completed"
    },
    "tags": []
   },
   "source": [
    "**3 - Un modelo de lenguaje es un modelo de NLP ¿Qué significan estas siglas?**\n",
    "1. 'Neural Language Problem'.\n",
    "1. 'Natural Lineal Process'.\n",
    "1. 'Neural Logarithm Problem'.\n",
    "1. 'Natural Language Process'."
   ]
  },
  {
   "cell_type": "markdown",
   "id": "aa1adc4e",
   "metadata": {
    "_kg_hide-input": true,
    "papermill": {
     "duration": 0.003646,
     "end_time": "2023-01-16T09:08:31.927128",
     "exception": false,
     "start_time": "2023-01-16T09:08:31.923482",
     "status": "completed"
    },
    "tags": []
   },
   "source": [
    "La correcta es la 4, en castellano \"procesamiento de lenguaje natural\"."
   ]
  },
  {
   "cell_type": "markdown",
   "id": "959aecf9",
   "metadata": {
    "papermill": {
     "duration": 0.003733,
     "end_time": "2023-01-16T09:08:31.934828",
     "exception": false,
     "start_time": "2023-01-16T09:08:31.931095",
     "status": "completed"
    },
    "tags": []
   },
   "source": [
    "**4 - En el vector de enteros `45,33,-23, 0, 1245, 22` el 1245 es anómalo, en el sentido de que se 'aleja' de los demás. En aprendizaje máquina hay métodos para la 'detección de anomalías' en grandes conjuntos de datos multidimensionales que encuentran los 'puntos' anómalos, y que se usan, por ejemplo, para mantenimiento predictivo. Por ejemplo, los proveedores de Internet analizan con este método, en tiempo real, los tiempos de respuesta y otros datos del comportamiento de sus 'routers', detectando valores anómalos antes de que los routers se averíen. Este caso de uso ¿Es aprendizaje máquina supervisado o no supervisado? Elige una respuesta:**\n",
    "1. No supervisado, porque la detección se hace sin la supervisión humana.\n",
    "2. Supervisado, porque en el conjunto de datos la variable de salida es la avería correspondiente a los datos anómalos de entrada.\n",
    "3. No supervisado, porque en el conjunto de datos no hay variable de salida, el objetivo es simplemente encontrar valores anómalos.\n",
    "4. Supervisado, porque en última instancia se necesita la supervisión humana."
   ]
  },
  {
   "cell_type": "markdown",
   "id": "3635084a",
   "metadata": {
    "_kg_hide-input": true,
    "papermill": {
     "duration": 0.003549,
     "end_time": "2023-01-16T09:08:31.942224",
     "exception": false,
     "start_time": "2023-01-16T09:08:31.938675",
     "status": "completed"
    },
    "tags": []
   },
   "source": [
    "La correcta es la 3, es no supervisado. El algoritmo busca simplemente valores que se alejen de los demás, lo que muy frecuentemente indica una inminente avería."
   ]
  },
  {
   "cell_type": "markdown",
   "id": "3e05d660",
   "metadata": {
    "papermill": {
     "duration": 0.003532,
     "end_time": "2023-01-16T09:08:31.949650",
     "exception": false,
     "start_time": "2023-01-16T09:08:31.946118",
     "status": "completed"
    },
    "tags": []
   },
   "source": [
    "**5 - Imagina un modelo de aprendizaje máquina que vence al campeón del mundo de cuatro en raya. ¿Cómo clasificarías el modelo? Elige una respuesta:**\n",
    "\n",
    "1. Como clasificación, porque el algoritmo clasifica las jugadas entre buenas y malas.\n",
    "1. Como aprendizaje profundo, por la complejidad del problema a resolver .\n",
    "1. Como aprendizaje reforzado, aplicable a universos cerrados como los juegos.\n",
    "1. Jugar al cuatro en raya no es inteligencia artificial."
   ]
  },
  {
   "cell_type": "markdown",
   "id": "59d3de6b",
   "metadata": {
    "_kg_hide-input": true,
    "papermill": {
     "duration": 0.003514,
     "end_time": "2023-01-16T09:08:31.957075",
     "exception": false,
     "start_time": "2023-01-16T09:08:31.953561",
     "status": "completed"
    },
    "tags": []
   },
   "source": [
    "La respuesta correcta es la 3, es aprendizaje reforzado. Clasificar las jugadas entre buenas y malas no sería suficiente para elegir la mejor jugada. Por otra parte, el problema no es lo bastante complejo como para precisar aprendizaje profundo, pero sin duda es inteligencia artificial."
   ]
  },
  {
   "cell_type": "markdown",
   "id": "d2b4b22a",
   "metadata": {
    "papermill": {
     "duration": 0.003502,
     "end_time": "2023-01-16T09:08:31.964403",
     "exception": false,
     "start_time": "2023-01-16T09:08:31.960901",
     "status": "completed"
    },
    "tags": []
   },
   "source": [
    "**6 - ¿Cómo clasificarías el filtro de correo no deseado (spam) de los sistemas de correo electrónico? Cuáles de las siguientes respuestas te parecen correctas:**\n",
    "1. Un problema de clasificación.\n",
    "1. Un problema de regresión.\n",
    "1. Un problema de NLP.\n",
    "1. Un problema de imagen digital."
   ]
  },
  {
   "cell_type": "markdown",
   "id": "79066c71",
   "metadata": {
    "_kg_hide-input": true,
    "papermill": {
     "duration": 0.003553,
     "end_time": "2023-01-16T09:08:31.971753",
     "exception": false,
     "start_time": "2023-01-16T09:08:31.968200",
     "status": "completed"
    },
    "tags": []
   },
   "source": [
    "Son correctas la 1 y la 3, el modelo tiene que clasificar los mensajes entre legítimos o 'spam', y para ello tiene que analizar texto en lenguaje natural."
   ]
  },
  {
   "cell_type": "markdown",
   "id": "edb93ae7",
   "metadata": {
    "papermill": {
     "duration": 0.003539,
     "end_time": "2023-01-16T09:08:31.979083",
     "exception": false,
     "start_time": "2023-01-16T09:08:31.975544",
     "status": "completed"
    },
    "tags": []
   },
   "source": [
    "**7 - De los siguientes casos de uso, cuál te parece el más costoso a la hora de construir un conjunto de datos de entrenamiento:**\n",
    "1. Clasificación de retinografías según el grado de retinopatía.\n",
    "1. Segmentación de radiografías para diferenciar los diferentes huesos de la rodilla.\n",
    "1. Influencia de las condiciones meteorológicas en la producción de maiz."
   ]
  },
  {
   "cell_type": "markdown",
   "id": "5865fd14",
   "metadata": {
    "_kg_hide-input": true,
    "papermill": {
     "duration": 0.003918,
     "end_time": "2023-01-16T09:08:31.986793",
     "exception": false,
     "start_time": "2023-01-16T09:08:31.982875",
     "status": "completed"
    },
    "tags": []
   },
   "source": [
    "La correcta es la 2. En un problema de segmentación de imagen médica el personal experto tiene que 'dibujar' sobre la imagen las diferentes partes a identificar. A pesar de que hay herramientas de ayuda, siempre será más costoso que clasificar imágenes o recopilar datos meteorológicos y de producción agrícola."
   ]
  },
  {
   "cell_type": "markdown",
   "id": "c3a62a17",
   "metadata": {
    "papermill": {
     "duration": 0.003605,
     "end_time": "2023-01-16T09:08:31.994422",
     "exception": false,
     "start_time": "2023-01-16T09:08:31.990817",
     "status": "completed"
    },
    "tags": []
   },
   "source": [
    "**8 - ¿Cuál es la principal diferencia entre los programas de ajedrez Deep Blue (IBM, 1996) y Alphazero (Google, 2017)?**\n",
    "1. Deep Blue fue entrenado por Garry Kasparov y Alphazero por Marnus Carlsen.\n",
    "1. Deep Blue aprovecha la fuerza bruta en la búsqueda en el árbol de jugadas y Alphazero no.\n",
    "1. Deep Blue tiene una biblioteca de reglas programadas por expertos ajedrecistas, Alphazero aprende jugando contra sí mismo.\n",
    "1. Deep Blue es software propietario, Alphazero es software libre."
   ]
  },
  {
   "cell_type": "markdown",
   "id": "ab5ac3b1",
   "metadata": {
    "_kg_hide-input": true,
    "papermill": {
     "duration": 0.003862,
     "end_time": "2023-01-16T09:08:32.002181",
     "exception": false,
     "start_time": "2023-01-16T09:08:31.998319",
     "status": "completed"
    },
    "tags": []
   },
   "source": [
    "La correcta es la 3. Ambos sistemas aprovechan la fuerza bruta de la búsqueda en el árbol de jugadas, pero mientras que Deep Blue dirige la búsqueda según unas reglas heurísticas escritas por expertos en ajedrez, Alphazero se ayuda de una red neuronal que ha aprendido reglas similares jugando contra sí mismo. Por otra parte ninguno de los dos sistemas se publicó bajo ninguna licencia, y ni Kasparov ni Carlsen participaron en su diseño. Por cierto, quién si participó en el diseño de Deep Blue fue el Gran Maestro español [Miguel Illescas](https://www.xataka.com/robotica-e-ia/como-inteligencia-artificial-ha-cambiado-sigue-cambiando-radicalmente-ajedrez-entrevista-a-miguel-illescas-campeon-espana-cocreador-deep-blue)."
   ]
  },
  {
   "cell_type": "code",
   "execution_count": null,
   "id": "23a76f49",
   "metadata": {
    "papermill": {
     "duration": 0.003588,
     "end_time": "2023-01-16T09:08:32.009886",
     "exception": false,
     "start_time": "2023-01-16T09:08:32.006298",
     "status": "completed"
    },
    "tags": []
   },
   "outputs": [],
   "source": []
  }
 ],
 "metadata": {
  "kernelspec": {
   "display_name": "Python 3",
   "language": "python",
   "name": "python3"
  },
  "language_info": {
   "codemirror_mode": {
    "name": "ipython",
    "version": 3
   },
   "file_extension": ".py",
   "mimetype": "text/x-python",
   "name": "python",
   "nbconvert_exporter": "python",
   "pygments_lexer": "ipython3",
   "version": "3.7.12"
  },
  "papermill": {
   "default_parameters": {},
   "duration": 10.650019,
   "end_time": "2023-01-16T09:08:32.740219",
   "environment_variables": {},
   "exception": null,
   "input_path": "__notebook__.ipynb",
   "output_path": "__notebook__.ipynb",
   "parameters": {},
   "start_time": "2023-01-16T09:08:22.090200",
   "version": "2.3.4"
  }
 },
 "nbformat": 4,
 "nbformat_minor": 5
}
