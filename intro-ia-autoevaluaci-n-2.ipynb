{
 "cells": [
  {
   "cell_type": "markdown",
   "id": "c85b8cec",
   "metadata": {
    "papermill": {
     "duration": 0.004845,
     "end_time": "2023-01-16T09:09:37.562925",
     "exception": false,
     "start_time": "2023-01-16T09:09:37.558080",
     "status": "completed"
    },
    "tags": []
   },
   "source": [
    "# Definición y casos de uso\n",
    "## Autoevaluación"
   ]
  },
  {
   "cell_type": "markdown",
   "id": "87d87d82",
   "metadata": {
    "papermill": {
     "duration": 0.003498,
     "end_time": "2023-01-16T09:09:37.570837",
     "exception": false,
     "start_time": "2023-01-16T09:09:37.567339",
     "status": "completed"
    },
    "tags": []
   },
   "source": [
    "**1 - Los inspectores de Hacienda se ven obligados a seleccionar cuidadosamente qué personas físicas o jurídicas inspeccionar. Imagina un sistema que, a partir de los datos de inspecciones previas y del resultado de dichas inspecciones, calcula mediante un algoritmo de optimización ciertos parámetros de una función que proporciona una estimación de la probabilidad de que un contribuyente cometa una irregularidad. ¿Se puede considerar que se trata de un sistema de Inteligencia Artificial? De ser así ¿Sería aprendizaje máquina? Elige una respuesta:**\n",
    "\n",
    "1. Es un problema muy sencillo, no puede considerarse inteligencia artificial.\n",
    "1. Es inteligencia artificial, pero no es aprendizaje máquina.\n",
    "1. Es inteligencia artificial, concretamente aprendizaje máquina supervisado."
   ]
  },
  {
   "cell_type": "markdown",
   "id": "98407b33",
   "metadata": {
    "_kg_hide-input": true,
    "papermill": {
     "duration": 0.003462,
     "end_time": "2023-01-16T09:09:37.578042",
     "exception": false,
     "start_time": "2023-01-16T09:09:37.574580",
     "status": "completed"
    },
    "tags": []
   },
   "source": [
    "La correcta es la 3, el enunciado de la pregunta es prácticamente la definición de aprendizaje máquina supervisado."
   ]
  },
  {
   "cell_type": "markdown",
   "id": "9a4dfbaa",
   "metadata": {
    "papermill": {
     "duration": 0.003494,
     "end_time": "2023-01-16T09:09:37.585231",
     "exception": false,
     "start_time": "2023-01-16T09:09:37.581737",
     "status": "completed"
    },
    "tags": []
   },
   "source": [
    "**2 - Imagina un sistema de aprendizaje máquina supervisado para las OCAs (Organismos de Control Autorizados) que, a partir de los datos de inspecciones previas y del resultado de dichas inspecciones calcula una estimación de la probabilidad de que una instalación industrial esté infringiendo la normativa de seguridad. Cuál de las siguientes afirmaciones te parece correcta:**\n",
    "1. Es aprendizaje máquina supervisado.\n",
    "1. Es un problema de clasificación.\n",
    "1. Es un problema de regresión.\n",
    "1. Es aprendizaje máquina no supervisado."
   ]
  },
  {
   "cell_type": "markdown",
   "id": "4930d143",
   "metadata": {
    "_kg_hide-input": true,
    "papermill": {
     "duration": 0.00337,
     "end_time": "2023-01-16T09:09:37.592292",
     "exception": false,
     "start_time": "2023-01-16T09:09:37.588922",
     "status": "completed"
    },
    "tags": []
   },
   "source": [
    "Son correctas la 1 y la 3. Es regresión, porque calcula una variable contínua, es decir, un número: la probabilidad de una infracción."
   ]
  },
  {
   "cell_type": "markdown",
   "id": "660d9b72",
   "metadata": {
    "papermill": {
     "duration": 0.00334,
     "end_time": "2023-01-16T09:09:37.599468",
     "exception": false,
     "start_time": "2023-01-16T09:09:37.596128",
     "status": "completed"
    },
    "tags": []
   },
   "source": [
    "**3 - Un modelo de lenguaje es un modelo de NLP ¿Qué significan estas siglas?**\n",
    "1. 'Neural Language Problem'.\n",
    "1. 'Natural Lineal Process'.\n",
    "1. 'Neural Logarithm Problem'.\n",
    "1. 'Natural Language Process'."
   ]
  },
  {
   "cell_type": "markdown",
   "id": "90236591",
   "metadata": {
    "_kg_hide-input": true,
    "papermill": {
     "duration": 0.003318,
     "end_time": "2023-01-16T09:09:37.606379",
     "exception": false,
     "start_time": "2023-01-16T09:09:37.603061",
     "status": "completed"
    },
    "tags": []
   },
   "source": [
    "La correcta es la 4, en castellano \"procesamiento de lenguaje natural\"."
   ]
  },
  {
   "cell_type": "markdown",
   "id": "c0973cf4",
   "metadata": {
    "papermill": {
     "duration": 0.003436,
     "end_time": "2023-01-16T09:09:37.613391",
     "exception": false,
     "start_time": "2023-01-16T09:09:37.609955",
     "status": "completed"
    },
    "tags": []
   },
   "source": [
    "**4 - En el vector de enteros `45,33,-23, 0, 1245, 22` el 1245 es anómalo, en el sentido de que se 'aleja' de los demás. En aprendizaje máquina hay métodos para la 'detección de anomalías' en grandes conjuntos de datos multidimensionales que encuentran los 'puntos' anómalos, y que se usan, por ejemplo, para mantenimiento predictivo. Por ejemplo, los proveedores de Internet analizan con este método, en tiempo real, los tiempos de respuesta y otros datos del comportamiento de sus 'routers', detectando valores anómalos antes de que los routers se averíen. Este caso de uso ¿Es aprendizaje máquina supervisado o no supervisado? Elige una respuesta:**\n",
    "1. No supervisado, porque la detección se hace sin la supervisión humana.\n",
    "2. Supervisado, porque en el conjunto de datos la variable de salida es la avería correspondiente a los datos anómalos de entrada.\n",
    "3. No supervisado, porque en el conjunto de datos no hay variable de salida, el objetivo es simplemente encontrar valores anómalos.\n",
    "4. Supervisado, porque en última instancia se necesita la supervisión humana."
   ]
  },
  {
   "cell_type": "markdown",
   "id": "43318894",
   "metadata": {
    "_kg_hide-input": true,
    "papermill": {
     "duration": 0.003301,
     "end_time": "2023-01-16T09:09:37.620225",
     "exception": false,
     "start_time": "2023-01-16T09:09:37.616924",
     "status": "completed"
    },
    "tags": []
   },
   "source": [
    "La correcta es la 3, es no supervisado. El algoritmo busca simplemente valores que se alejen de los demás, lo que muy frecuentemente indica una inminente avería."
   ]
  },
  {
   "cell_type": "markdown",
   "id": "04b289c4",
   "metadata": {
    "papermill": {
     "duration": 0.003476,
     "end_time": "2023-01-16T09:09:37.627324",
     "exception": false,
     "start_time": "2023-01-16T09:09:37.623848",
     "status": "completed"
    },
    "tags": []
   },
   "source": [
    "**5 - Imagina un modelo de aprendizaje máquina que vence al campeón del mundo de cuatro en raya. ¿Cómo clasificarías el modelo? Elige una respuesta:**\n",
    "\n",
    "1. Como clasificación, porque el algoritmo clasifica las jugadas entre buenas y malas.\n",
    "1. Como aprendizaje profundo, por la complejidad del problema a resolver .\n",
    "1. Como aprendizaje reforzado, aplicable a universos cerrados como los juegos.\n",
    "1. Jugar al cuatro en raya no es inteligencia artificial."
   ]
  },
  {
   "cell_type": "markdown",
   "id": "b33efd1f",
   "metadata": {
    "_kg_hide-input": true,
    "papermill": {
     "duration": 0.003341,
     "end_time": "2023-01-16T09:09:37.634331",
     "exception": false,
     "start_time": "2023-01-16T09:09:37.630990",
     "status": "completed"
    },
    "tags": []
   },
   "source": [
    "La respuesta correcta es la 3, es aprendizaje reforzado. Clasificar las jugadas entre buenas y malas no sería suficiente para elegir la mejor jugada. Por otra parte, el problema no es lo bastante complejo como para precisar aprendizaje profundo, pero sin duda es inteligencia artificial."
   ]
  },
  {
   "cell_type": "markdown",
   "id": "2c2afbd0",
   "metadata": {
    "papermill": {
     "duration": 0.003298,
     "end_time": "2023-01-16T09:09:37.641211",
     "exception": false,
     "start_time": "2023-01-16T09:09:37.637913",
     "status": "completed"
    },
    "tags": []
   },
   "source": [
    "**6 - ¿Cómo clasificarías el filtro de correo no deseado (spam) de los sistemas de correo electrónico? Cuáles de las siguientes respuestas te parecen correctas:**\n",
    "1. Un problema de clasificación.\n",
    "1. Un problema de regresión.\n",
    "1. Un problema de NLP.\n",
    "1. Un problema de imagen digital."
   ]
  },
  {
   "cell_type": "markdown",
   "id": "bac5c1fd",
   "metadata": {
    "_kg_hide-input": true,
    "papermill": {
     "duration": 0.003369,
     "end_time": "2023-01-16T09:09:37.648185",
     "exception": false,
     "start_time": "2023-01-16T09:09:37.644816",
     "status": "completed"
    },
    "tags": []
   },
   "source": [
    "Son correctas la 1 y la 3, el modelo tiene que clasificar los mensajes entre legítimos o 'spam', y para ello tiene que analizar texto en lenguaje natural."
   ]
  },
  {
   "cell_type": "markdown",
   "id": "6975ce3c",
   "metadata": {
    "papermill": {
     "duration": 0.003233,
     "end_time": "2023-01-16T09:09:37.654899",
     "exception": false,
     "start_time": "2023-01-16T09:09:37.651666",
     "status": "completed"
    },
    "tags": []
   },
   "source": [
    "**7 - De los siguientes casos de uso, cuál te parece el más costoso a la hora de construir un conjunto de datos de entrenamiento:**\n",
    "1. Clasificación de retinografías según el grado de retinopatía.\n",
    "1. Segmentación de radiografías para diferenciar los diferentes huesos de la rodilla.\n",
    "1. Influencia de las condiciones meteorológicas en la producción de maiz."
   ]
  },
  {
   "cell_type": "markdown",
   "id": "ef57488d",
   "metadata": {
    "_kg_hide-input": true,
    "papermill": {
     "duration": 0.003246,
     "end_time": "2023-01-16T09:09:37.661766",
     "exception": false,
     "start_time": "2023-01-16T09:09:37.658520",
     "status": "completed"
    },
    "tags": []
   },
   "source": [
    "La correcta es la 2. En un problema de segmentación de imagen médica el personal experto tiene que 'dibujar' sobre la imagen las diferentes partes a identificar. A pesar de que hay herramientas de ayuda, siempre será más costoso que clasificar imágenes o recopilar datos meteorológicos y de producción agrícola."
   ]
  },
  {
   "cell_type": "markdown",
   "id": "c04a66b7",
   "metadata": {
    "papermill": {
     "duration": 0.003237,
     "end_time": "2023-01-16T09:09:37.668582",
     "exception": false,
     "start_time": "2023-01-16T09:09:37.665345",
     "status": "completed"
    },
    "tags": []
   },
   "source": [
    "**8 - ¿Cuál es la principal diferencia entre los programas de ajedrez Deep Blue (IBM, 1996) y Alphazero (Google, 2017)?**\n",
    "1. Deep Blue fue entrenado por Garry Kasparov y Alphazero por Marnus Carlsen.\n",
    "1. Deep Blue aprovecha la fuerza bruta en la búsqueda en el árbol de jugadas y Alphazero no.\n",
    "1. Deep Blue tiene una biblioteca de reglas programadas por expertos ajedrecistas, Alphazero aprende jugando contra sí mismo.\n",
    "1. Deep Blue es software propietario, Alphazero es software libre."
   ]
  },
  {
   "cell_type": "markdown",
   "id": "71666c27",
   "metadata": {
    "_kg_hide-input": true,
    "papermill": {
     "duration": 0.003272,
     "end_time": "2023-01-16T09:09:37.675353",
     "exception": false,
     "start_time": "2023-01-16T09:09:37.672081",
     "status": "completed"
    },
    "tags": []
   },
   "source": [
    "La correcta es la 3. Ambos sistemas aprovechan la fuerza bruta de la búsqueda en el árbol de jugadas, pero mientras que Deep Blue dirige la búsqueda según unas reglas heurísticas escritas por expertos en ajedrez, Alphazero se ayuda de una red neuronal que ha aprendido reglas similares jugando contra sí mismo. Por otra parte ninguno de los dos sistemas se publicó bajo ninguna licencia, y ni Kasparov ni Carlsen participaron en su diseño. Por cierto, quién si participó en el diseño de Deep Blue fue el Gran Maestro español [Miguel Illescas](https://www.xataka.com/robotica-e-ia/como-inteligencia-artificial-ha-cambiado-sigue-cambiando-radicalmente-ajedrez-entrevista-a-miguel-illescas-campeon-espana-cocreador-deep-blue)."
   ]
  }
 ],
 "metadata": {
  "kernelspec": {
   "display_name": "Python 3",
   "language": "python",
   "name": "python3"
  },
  "language_info": {
   "codemirror_mode": {
    "name": "ipython",
    "version": 3
   },
   "file_extension": ".py",
   "mimetype": "text/x-python",
   "name": "python",
   "nbconvert_exporter": "python",
   "pygments_lexer": "ipython3",
   "version": "3.7.12"
  },
  "papermill": {
   "default_parameters": {},
   "duration": 10.544102,
   "end_time": "2023-01-16T09:09:38.404214",
   "environment_variables": {},
   "exception": null,
   "input_path": "__notebook__.ipynb",
   "output_path": "__notebook__.ipynb",
   "parameters": {},
   "start_time": "2023-01-16T09:09:27.860112",
   "version": "2.3.4"
  }
 },
 "nbformat": 4,
 "nbformat_minor": 5
}
