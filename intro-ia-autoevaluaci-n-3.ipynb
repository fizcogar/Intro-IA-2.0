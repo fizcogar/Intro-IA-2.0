{
 "cells": [
  {
   "cell_type": "markdown",
   "id": "982fde29",
   "metadata": {
    "papermill": {
     "duration": 0.004315,
     "end_time": "2023-01-16T07:48:00.904388",
     "exception": false,
     "start_time": "2023-01-16T07:48:00.900073",
     "status": "completed"
    },
    "tags": []
   },
   "source": [
    "# Sobreajuste\n",
    "## Autoevaluación"
   ]
  },
  {
   "cell_type": "markdown",
   "id": "6f965a95",
   "metadata": {
    "papermill": {
     "duration": 0.00297,
     "end_time": "2023-01-16T07:48:00.910837",
     "exception": false,
     "start_time": "2023-01-16T07:48:00.907867",
     "status": "completed"
    },
    "tags": []
   },
   "source": [
    "**1 - El Instituto de Salud Pública (ISP), para garantizar la seguridad de los alimentos destinados al consumo humano realiza inspecciones y controles de la higiene de la producción y comercialización de los alimentos. Nos solicitan un sistema de aprendizaje máquina para priorizar las inspecciones. Uno de los requisitos del sistema es que el 'razonamiento' del modelo sea interpretable por los inspectores. ¿Elegirías un modelo de regresión lineal o árboles de decisión? Elige una respuesta:**\n",
    "\n",
    "1. Sin duda árboles de decisión, porque son mucho más fáciles de interpretar que los modelos de regresión lineal.\n",
    "1. Árboles de decisión, siempre que el rendimiento de este modelo en producción fuese suficiente para el ISP.\n",
    "1. La variable de salida del modelo es un número, por lo que el único modelo posible es la regresión lineal.\n",
    "1. Elegiría un modelo basado en redes neuronales."
   ]
  },
  {
   "cell_type": "markdown",
   "id": "5c9946f8",
   "metadata": {
    "_kg_hide-input": true,
    "papermill": {
     "duration": 0.002801,
     "end_time": "2023-01-16T07:48:00.916781",
     "exception": false,
     "start_time": "2023-01-16T07:48:00.913980",
     "status": "completed"
    },
    "tags": []
   },
   "source": [
    "La mejor respuesta es la 2. De poco sirve que las respuestas del modelo sean interpretables si no son correctas. Por otra parte, la regresión lineal no es el único modelo de regresión; como hemos visto, puede hacerse regresión con árboles de decisión. Por último, un modelo basado en redes neuronales probablemente funcionase bien, pero no son modelos especialmente interpretables."
   ]
  },
  {
   "cell_type": "markdown",
   "id": "2bac37fe",
   "metadata": {
    "papermill": {
     "duration": 0.002887,
     "end_time": "2023-01-16T07:48:00.922754",
     "exception": false,
     "start_time": "2023-01-16T07:48:00.919867",
     "status": "completed"
    },
    "tags": []
   },
   "source": [
    "**2 - Nos piden sustituir un proceso manual por un sistema de información. El ratio de error del proceso manual es del 5%, y establecemos ese dato como línea base. Después de entrenar un modelo de aprendizaje máquina obtenemos un ratio de error del 4%. ¿El modelo está listo para pasar a producción? Elige una respuesta:**\n",
    "1. Sin duda, ya que hemos mejorado la línea base.\n",
    "1. No, la mejora no es suficiente como para pasar a producción.\n",
    "1. Sí, siempre que el ratio de error haya sido calculado sobre el conjunto de datos de entrenamiento.\n",
    "1. Sí, siempre que el ratio de error haya sido calculado sobre el conjunto de datos de validación."
   ]
  },
  {
   "cell_type": "markdown",
   "id": "542e1777",
   "metadata": {
    "_kg_hide-input": true,
    "papermill": {
     "duration": 0.002747,
     "end_time": "2023-01-16T07:48:00.928525",
     "exception": false,
     "start_time": "2023-01-16T07:48:00.925778",
     "status": "completed"
    },
    "tags": []
   },
   "source": [
    "La correcta es la 4. El ratio de error ha tenido que ser calculado sobre un conjunto de datos de validación que no hayan participado en el entrenamiento. Si lo calculamos sobre los datos de entrenamiento el ratio de error no sería significativo en caso de sobreajuste."
   ]
  },
  {
   "cell_type": "markdown",
   "id": "73566e2c",
   "metadata": {
    "papermill": {
     "duration": 0.002745,
     "end_time": "2023-01-16T07:48:00.934291",
     "exception": false,
     "start_time": "2023-01-16T07:48:00.931546",
     "status": "completed"
    },
    "tags": []
   },
   "source": [
    "**3 - Nos piden sustituir un proceso manual por un sistema de información. El ratio de error del proceso manual es del 5%, y establecemos ese dato como línea base. Después de entrenar un modelo de aprendizaje máquina obtenemos un rátio de error del 6% sobre el conjunto de datos de validación. ¿El modelo está listo para pasar a producción? Elige una respuesta:**\n",
    "1. No, en ningún caso podemos pasar a producción un modelo que no mejore la línea base.\n",
    "1. Sí, podemos pasar a producción siempre que la diferencia entre el ratio de error del modelo y la línea base no supere el 1%.\n",
    "1. Dependerá del coste de los errores. Un ratio de error algo superior al proceso manual tiene un coste, pero este coste puede compensarse con el ahorro de sustituir el proceso manual por un proceso automático.\n",
    "1. Dependerá de si el ratio de error sobre el conjunto de datos de entrenamiento mejore o no la línea base."
   ]
  },
  {
   "cell_type": "markdown",
   "id": "2226c598",
   "metadata": {
    "_kg_hide-input": true,
    "papermill": {
     "duration": 0.002808,
     "end_time": "2023-01-16T07:48:00.940106",
     "exception": false,
     "start_time": "2023-01-16T07:48:00.937298",
     "status": "completed"
    },
    "tags": []
   },
   "source": [
    "La correcta es la 3. La línea base es sólo una referencia para poder valorar el rendimiento del modelo. Un ratio de error algo superior al de un proceso manual puede ser suficiente como para sustituirlo. Ten en cuenta que, en general, es difícil que un modelo de aprendizaje máquina mejore el rendimiento de las personas. La clave es el coste de ese 1% extra de errores."
   ]
  },
  {
   "cell_type": "markdown",
   "id": "e05da229",
   "metadata": {
    "papermill": {
     "duration": 0.002774,
     "end_time": "2023-01-16T07:48:00.947436",
     "exception": false,
     "start_time": "2023-01-16T07:48:00.944662",
     "status": "completed"
    },
    "tags": []
   },
   "source": [
    "**4 - Tenemos que contratar el desarrollo de un modelo de aprendizaje máquina, y nuestro cliente exige un ratio de error máximo del 2% ¿Cómo podemos asegurarnos de que el proveedor cumple ese requisito? Elige una respuesta:**\n",
    "1. Guardándanos una parte de los datos, para medir nosotros mismos el ratio de error sobre este conjunto de datos.\n",
    "1. Proporcionando al proveedor tres conjuntos de datos: de entrenamiento, de validación y de test, y solicitando informes del ratio de error en cada uno de estos conjuntos.\n",
    "1. Proporcionando al proveedor dos conjuntos de datos: de entrenamiento y de prueba, y solicitando informes del ratio de error en cada uno de estos conjuntos.\n",
    "1. Guardándonos una copia de los datos que proporcionamos al proveedor, para medir nosotros mismos el ratio de error sobre este conjunto de datos."
   ]
  },
  {
   "cell_type": "markdown",
   "id": "83eb4732",
   "metadata": {
    "_kg_hide-input": true,
    "papermill": {
     "duration": 0.002811,
     "end_time": "2023-01-16T07:48:00.953386",
     "exception": false,
     "start_time": "2023-01-16T07:48:00.950575",
     "status": "completed"
    },
    "tags": []
   },
   "source": [
    "La correcta es la 1. La única forma de estar seguros de que el ratio de error del modelo es el adecuado es guardarnos un subconjunto de los datos para asegurarnos de que el modelo no ha sido entrenado con ellos. Si el ratio de error sobre este subconjunto es el adecuado, podemos esperar que el modelo generalice bien con datos de producción."
   ]
  },
  {
   "cell_type": "markdown",
   "id": "caf14b47",
   "metadata": {
    "papermill": {
     "duration": 0.002859,
     "end_time": "2023-01-16T07:48:00.959247",
     "exception": false,
     "start_time": "2023-01-16T07:48:00.956388",
     "status": "completed"
    },
    "tags": []
   },
   "source": [
    "**5 - Entrenamos un modelo para sustituir un procedimiento manual. Calculamos una línea base del 3% de ratio de error. Nuestro modelo converge con un ratio de error del 14% sobre el conjunto de datos de entrenamiento y del 15% sobre el de validación. Cuáles de las siguientes afirmaciones te parecen correctas:**\n",
    "\n",
    "1. El modelo sufre de falta de ajuste (underfitting).\n",
    "1. Puede que el modelo no sea lo bastante complejo como para detectar los patrones en los datos.\n",
    "1. Puede que nos falten datos de entrenamiento representativos."
   ]
  },
  {
   "cell_type": "markdown",
   "id": "8a5e848b",
   "metadata": {
    "_kg_hide-input": true,
    "papermill": {
     "duration": 0.002733,
     "end_time": "2023-01-16T07:48:00.964967",
     "exception": false,
     "start_time": "2023-01-16T07:48:00.962234",
     "status": "completed"
    },
    "tags": []
   },
   "source": [
    "Las tres son correctas. Si el modelo no llega a la línea base, siendo el ratio de error similar en los dos subconjuntos de datos, se dice que está poco ajustado, ya que no aprende lo suficiente. Esto puede deberse a que el modelo es demasiado simple como para detectar los patrones o a que el conjunto de datos es insuficiente."
   ]
  },
  {
   "cell_type": "markdown",
   "id": "9105be1e",
   "metadata": {
    "papermill": {
     "duration": 0.002787,
     "end_time": "2023-01-16T07:48:00.970767",
     "exception": false,
     "start_time": "2023-01-16T07:48:00.967980",
     "status": "completed"
    },
    "tags": []
   },
   "source": [
    "**6 - En el símil deportivo con Rafa Nadal, una vez que decido que necesita entrenar jugando con otros niños tan buenos o mejores que él ¿Cuál sería el conjunto de datos de entrenamiento representativo?**\n",
    "1. Los partidos de entrenamiento contra mí.\n",
    "1. Los partidos de entrenamiento contra otros niños tan buenos o mejores que él.\n",
    "1. Los partidos del campeonato infantil."
   ]
  },
  {
   "cell_type": "markdown",
   "id": "3d719f3c",
   "metadata": {
    "papermill": {
     "duration": 0.002836,
     "end_time": "2023-01-16T07:48:00.976637",
     "exception": false,
     "start_time": "2023-01-16T07:48:00.973801",
     "status": "completed"
    },
    "tags": []
   },
   "source": [
    "La correcta es la 2. Jugar contra mí no es representativo de lo que se va a encontrar en el campeonato. Jugar contra otros niños sí lo es."
   ]
  }
 ],
 "metadata": {
  "kernelspec": {
   "display_name": "Python 3",
   "language": "python",
   "name": "python3"
  },
  "language_info": {
   "codemirror_mode": {
    "name": "ipython",
    "version": 3
   },
   "file_extension": ".py",
   "mimetype": "text/x-python",
   "name": "python",
   "nbconvert_exporter": "python",
   "pygments_lexer": "ipython3",
   "version": "3.7.12"
  },
  "papermill": {
   "default_parameters": {},
   "duration": 12.15644,
   "end_time": "2023-01-16T07:48:01.704551",
   "environment_variables": {},
   "exception": null,
   "input_path": "__notebook__.ipynb",
   "output_path": "__notebook__.ipynb",
   "parameters": {},
   "start_time": "2023-01-16T07:47:49.548111",
   "version": "2.3.4"
  }
 },
 "nbformat": 4,
 "nbformat_minor": 5
}
