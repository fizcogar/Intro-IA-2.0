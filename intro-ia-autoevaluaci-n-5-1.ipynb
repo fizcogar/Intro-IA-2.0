{
 "cells": [
  {
   "cell_type": "markdown",
   "id": "6fc5f385",
   "metadata": {
    "papermill": {
     "duration": 0.003926,
     "end_time": "2023-02-27T09:37:30.917551",
     "exception": false,
     "start_time": "2023-02-27T09:37:30.913625",
     "status": "completed"
    },
    "tags": []
   },
   "source": [
    "# Algunos ejemplos de Aprendizaje Profundo\n",
    "## Diagnóstico de COVID 19 a partir de radiografías de tórax.\n",
    "### Autoevaluación"
   ]
  },
  {
   "cell_type": "markdown",
   "id": "7452f4a1",
   "metadata": {
    "papermill": {
     "duration": 0.002621,
     "end_time": "2023-02-27T09:37:30.923387",
     "exception": false,
     "start_time": "2023-02-27T09:37:30.920766",
     "status": "completed"
    },
    "tags": []
   },
   "source": [
    "**1 - El conjunto de datos público [MNIST](https://en.wikipedia.org/wiki/MNIST_database) consiste en imágenes de dígitos escritos a mano. Cada imagen está codificada en 28x28 'pixels' en escala de grises ¿Cuántos parámetros tendría un modelo de regresión lineal que a partir de una imagen calculara qué dígito representa?**\n",
    "1. 28 parámetros.\n",
    "1. 28 $\\cdot$ 28 = 784 parámetros.\n",
    "1. 28 $\\cdot$ 28 + 1 = 785 parámetros.\n",
    "1. Dependerá de la produndidad de la red neuronal."
   ]
  },
  {
   "cell_type": "markdown",
   "id": "4adc43c0",
   "metadata": {
    "_kg_hide-input": true,
    "papermill": {
     "duration": 0.002372,
     "end_time": "2023-02-27T09:37:30.928680",
     "exception": false,
     "start_time": "2023-02-27T09:37:30.926308",
     "status": "completed"
    },
    "tags": []
   },
   "source": [
    "En un modelo de regresión lineal $\\hat y = \\alpha_0 + \\alpha_1 \\cdot  x_1 + \\alpha_2 \\cdot x_2 + \\cdot\\cdot\\cdot + \\alpha_n \\cdot  x_n$ tenemos un parámetro para cada variable de entrada, más un parámetro independiente $(\\alpha_0)$. Las variables de entrada del modelo serían cada uno de los 'pixels' de la imagen, por lo que tendríamos $28 \\cdot 28 + 1 = 785$ parámetros en total."
   ]
  },
  {
   "cell_type": "markdown",
   "id": "76c8b923",
   "metadata": {
    "papermill": {
     "duration": 0.002275,
     "end_time": "2023-02-27T09:37:30.933518",
     "exception": false,
     "start_time": "2023-02-27T09:37:30.931243",
     "status": "completed"
    },
    "tags": []
   },
   "source": [
    "**2 - El síndrome de túnel carpiano es una afección en la cual existe una presión excesiva en el nervio mediano. Puede afectar a las dos manos (bilateral), aunque es más frecuente que afecte a la mano dominante. Suele diagnosticarse con exploración física, pruebas electrofisiológicas, ecografías o resonancias magnéticas, pero queremos entrenar un modelo de aprendizaje profundo para detectar síndrome de túnel carpiano en *radiografías*, que son pruebas más económicas. El conjunto de datos de entrenamiento consiste en radiografías de la mano afectada y de la mano sana de todos los paciente tratados por síndrome de túnel carpiano *unilateral*, durante los últimos diez años, por el Servicio Navarro de Salud. A pesar de que las métricas sobre los conjuntos de datos de pruebas y validación ofrecen un ratio de error cercano al 0.1%, una vez en producción el resultado es muchísimo peor. ¿Cuál de las siguientes causas te parece la más probable?**\n",
    "1. A que el conjunto de datos es demasiado pequeño.\n",
    "1. A que encontrar patrones del síndrome de túnel carpiano en radiografías es difícil, incluso para los especialistas en radiología.\n",
    "1. A que el modelo sufre de sobreajuste (overfitting).\n",
    "1. A que el conjunto de datos de entrenamiento está fuertemente sesgado: la mayoría de las radiografías 'sanas' son de la mano izquierda y las 'afectadas' de la mano derecha."
   ]
  },
  {
   "cell_type": "markdown",
   "id": "c90dffc6",
   "metadata": {
    "_kg_hide-input": true,
    "papermill": {
     "duration": 0.00236,
     "end_time": "2023-02-27T09:37:30.938700",
     "exception": false,
     "start_time": "2023-02-27T09:37:30.936340",
     "status": "completed"
    },
    "tags": []
   },
   "source": [
    "La más probable es la 4. Como la mayor parte de las personas son diestras, casi todas las radiografías afectadas son de la mano derecha, y las sanas de la mano izquierda, de manera que el modelo ha aprendido a diferenciar las radiografías de la mano derecha de las de la mano izquierda, ya que es un patrón mucho más facil de detectar que la patología."
   ]
  },
  {
   "cell_type": "markdown",
   "id": "f19b5bd6",
   "metadata": {
    "papermill": {
     "duration": 0.00283,
     "end_time": "2023-02-27T09:37:30.944338",
     "exception": false,
     "start_time": "2023-02-27T09:37:30.941508",
     "status": "completed"
    },
    "tags": []
   },
   "source": [
    "**3 - El \"aumento de datos\" (data augmentation) en imagen digital es una técnica que genera nuevos datos de entrenamiento aplicando sencillas transformaciones gráficas a los datos existentes. Por ejemplo, en el modelo descrito anteriormente para la detección de síndrome de túnel carpiano, podemos generar imágenes espejo de las radiografías. De esa manera tendremos radiografías con patología tanto de la mano izquierda como de la derecha, eliminando el sesgo del conjunto de datos de entrenamiento. Una vez entrenado el modelo aplicando esta técnica, encontramos que el ratio de error calculado sobre el conjunto de datos de entrenamiento y sobre el conjunto de datos de validación es altísimo. ¿Cuál de las siguientes causas te parece la más probable?**\n",
    "1. Que el conjunto de datos es demasiado pequeño.\n",
    "1. Que encontrar patrones del síndrome de túnel carpiano en radiografías es difícil, incluso para los especialistas en radiología.\n",
    "1. Que el modelo sufre de sobreajuste (overfitting)."
   ]
  },
  {
   "cell_type": "markdown",
   "id": "6af33b11",
   "metadata": {
    "_kg_hide-input": true,
    "papermill": {
     "duration": 0.002597,
     "end_time": "2023-02-27T09:37:30.950159",
     "exception": false,
     "start_time": "2023-02-27T09:37:30.947562",
     "status": "completed"
    },
    "tags": []
   },
   "source": [
    "La más probable es la 2. Si los especialistas no usan radiografías para diagnosticar el síndrome, probablemente sea imposible entrenar un modelo de aprendizaje máquina que lo haga bien."
   ]
  },
  {
   "cell_type": "markdown",
   "id": "f3c2c117",
   "metadata": {
    "papermill": {
     "duration": 0.002506,
     "end_time": "2023-02-27T09:37:30.955455",
     "exception": false,
     "start_time": "2023-02-27T09:37:30.952949",
     "status": "completed"
    },
    "tags": []
   },
   "source": [
    "**4 - En un sistema de reconocimiento facial aplicado al control de acceso de una base militar el sistema tiene que permitir el acceso a las personas autorizaras, es decir, un 'cierto positivo' es cuando el sistema reconoce correctamente a una persona como autorizada a entrar en la base, y un 'cierto negativo' es cuando impide el acceso a una persona no autorizada. Cuáles de las siguientes afirmaciones te parecen correctas:**\n",
    "1. Tiene mayor coste un falso negativo, porque implica que una persona no autorizada entre a la base.\n",
    "1. Tiene un menor coste un falso negativo, porque sólo implica que la persona se identifique de otra forma ante el personal que controla el acceso.\n",
    "1. Tiene mayor coste un falso positivo, porque implica que una persona no autorizada entre a la base.\n",
    "1. Tiene un menor coste un falso positivo, porque sólo implica que la persona se identifique de otra forma ante el personal que controla el acceso."
   ]
  },
  {
   "cell_type": "markdown",
   "id": "f1ea3f91",
   "metadata": {
    "_kg_hide-input": true,
    "papermill": {
     "duration": 0.002335,
     "end_time": "2023-02-27T09:37:30.960355",
     "exception": false,
     "start_time": "2023-02-27T09:37:30.958020",
     "status": "completed"
    },
    "tags": []
   },
   "source": [
    "Son correctas la 2 y la 3. Si un cierto positivo es permitir el acceso a una persona autorizada, un falso positivo es permitir el acceso a una persona no autorizada, que tiene más coste que un falso negativo, que es no permitir el acceso a una persona autorizada. Si no lo ves claro, no te preocupes, he tenido que revisar varias veces esta pregunta para asegurarme de que está bien ... y todavía tengo mis dudas ;)"
   ]
  },
  {
   "cell_type": "markdown",
   "id": "5fe9d41b",
   "metadata": {
    "papermill": {
     "duration": 0.002626,
     "end_time": "2023-02-27T09:37:30.965655",
     "exception": false,
     "start_time": "2023-02-27T09:37:30.963029",
     "status": "completed"
    },
    "tags": []
   },
   "source": [
    "**5 - Después de entrenar un modelo de aprendizaje profundo de imagen digital nos encontramos con un ratio de error del 3%. La línea base, que en este caso es el ratio de error de los expertos en la materia, es del 1%. Cuáles de las siguientes afirmaciones te parecen correctas:**\n",
    "1. El paso a producción dependerá del coste de los falsos positivos o negativos.\n",
    "1. Es un ratio de error bajo, el modelo está listo para pasar a producción.\n",
    "1. Es un ratio de error mayor que la línea base, el modelo no está listo para pasar a producción.\n",
    "1. Si tenemos la posibilidad de partir de un modelo preentrenado, eso podría mejorar el resultado, aunque sabemos que será difícil mejorar el rendimiento de los expertos humanos."
   ]
  },
  {
   "cell_type": "markdown",
   "id": "7a99c888",
   "metadata": {
    "_kg_hide-input": true,
    "papermill": {
     "duration": 0.002544,
     "end_time": "2023-02-27T09:37:30.971046",
     "exception": false,
     "start_time": "2023-02-27T09:37:30.968502",
     "status": "completed"
    },
    "tags": []
   },
   "source": [
    "Son correctas la 1 y la 4. El ratio de error por sí sólo no nos dice mucho, el paso a producción dependerá del coste asociado a los errores del modelo frente al beneficio de implantar un sistema automático. Por otra parte, en imagen digital la transferencia de aprendizaje partiendo de un modelo preentrenado puede mejorar notablemente el rendimiento de un modelo, aunque es raro encontrar modelos con mejor rendimiento que los expertos."
   ]
  },
  {
   "cell_type": "markdown",
   "id": "7a497095",
   "metadata": {
    "papermill": {
     "duration": 0.002531,
     "end_time": "2023-02-27T09:37:30.976219",
     "exception": false,
     "start_time": "2023-02-27T09:37:30.973688",
     "status": "completed"
    },
    "tags": []
   },
   "source": [
    "**6 - El Servicio Navarro de Salud (SNS) nos encarga la contratación de la creación de un modelo de aprendizaje profundo para diagnosticar neumonías en tomografías computerizadas, pero advertimos que el conjunto de datos de entrenamiento de que dispone el SNS es pequeño. Osakidetza-Servicio Vasco de Salud nos cede amablemente su propio modelo, entrenado con sus propias tomografías. ¿Cuál de las siguientes afirmaciones te parece más correcta?**\n",
    "1. El modelo de Osakidetza no ha podido ser entrenado correctamente, por falta de datos: pocos vascos enferman de neumonía, y menos si son de Bilbao .\n",
    "1. No podemos usar el modelo de Osakidetza, debemos entrenar el modelo exclusivamente con las tomografías del SNS, para evitar posibles sesgos.\n",
    "1. No podemos usar el modelo de Osakidetza para evitar un posible sesgo, pero podemos obtener un buen resultado por transferencia de aprendizaje partiendo de un modelo preentrenado con imágenes del mundo real como [ImageNet](https://en.wikipedia.org/wiki/ImageNet).\n",
    "1. Probablemente el mejor resultado lo obtendremos mediante transferencia de aprendizaje, afinando el modelo (fine-tuning) cedido por Osakideltza reentrenándolo con las tomografías del SNS.\n",
    "1. Podemos poner en producción directamente el modelo cedido por Osakidetza.\n"
   ]
  },
  {
   "cell_type": "markdown",
   "id": "376b5cb1",
   "metadata": {
    "_kg_hide-input": true,
    "papermill": {
     "duration": 0.002455,
     "end_time": "2023-02-27T09:37:30.981320",
     "exception": false,
     "start_time": "2023-02-27T09:37:30.978865",
     "status": "completed"
    },
    "tags": []
   },
   "source": [
    "La correcta es la 4. Si ponemos en producción directamente el modelo cedido, corremos el riesgo de que tenga algún sesgo que se ponga de manifiesto al usar el modelo con tomografías de una fuente diferente a la que se usó para entrenarlo. Podemos entrenar el modelo desde cero con nuestras tomografías, pero si el conjunto de datos de entrenamiento es pequeño obtendremos mejores resultados mediante transferencia de aprendizaje a partir de un modelo preentrenado con imágenes del mundo. Pero mejor todavía sería  afinar el modelo cedido por Osakideltza reentrenándolo con nuestras tomografías. De esta manera obtendremos mejores métricas y evitaremos el posible sesgo."
   ]
  }
 ],
 "metadata": {
  "kernelspec": {
   "display_name": "Python 3",
   "language": "python",
   "name": "python3"
  },
  "language_info": {
   "codemirror_mode": {
    "name": "ipython",
    "version": 3
   },
   "file_extension": ".py",
   "mimetype": "text/x-python",
   "name": "python",
   "nbconvert_exporter": "python",
   "pygments_lexer": "ipython3",
   "version": "3.7.12"
  },
  "papermill": {
   "default_parameters": {},
   "duration": 9.447685,
   "end_time": "2023-02-27T09:37:31.608246",
   "environment_variables": {},
   "exception": null,
   "input_path": "__notebook__.ipynb",
   "output_path": "__notebook__.ipynb",
   "parameters": {},
   "start_time": "2023-02-27T09:37:22.160561",
   "version": "2.3.4"
  }
 },
 "nbformat": 4,
 "nbformat_minor": 5
}
