{
 "cells": [
  {
   "cell_type": "markdown",
   "id": "4621a6f6",
   "metadata": {
    "papermill": {
     "duration": 0.004777,
     "end_time": "2023-02-27T09:36:47.731653",
     "exception": false,
     "start_time": "2023-02-27T09:36:47.726876",
     "status": "completed"
    },
    "tags": []
   },
   "source": [
    "## Algunos ejemplos de Aprendizaje Profundo\n",
    "## Detección de objetos para control de calidad\n",
    "### Autoevaluación"
   ]
  },
  {
   "cell_type": "markdown",
   "id": "bef0566c",
   "metadata": {
    "papermill": {
     "duration": 0.003175,
     "end_time": "2023-02-27T09:36:47.738667",
     "exception": false,
     "start_time": "2023-02-27T09:36:47.735492",
     "status": "completed"
    },
    "tags": []
   },
   "source": [
    "**1 - ¿Cuales de las siguientes afirmaciones son ciertas respecto al modelo para detección de objetos 'yolo3_darknet53_voc' de la librería GluonCV?**\n",
    "\n",
    "1. Es una red neuronal con una arquitectura de capas concreta, conocida como [darknet53](https://paperswithcode.com/method/darknet-53).\n",
    "1. Es una red neuronal preentrenada para la detección de objetos en tiempo real.\n",
    "1. Comprende una red neuronal y un conjunto de datos del mundo real que se pueden descargar para poder entrenarla para el reconocimiento de objetos en tiempo real.\n",
    "1. Es una red neuronal preentrenada para la detección de fusibles."
   ]
  },
  {
   "cell_type": "markdown",
   "id": "68f005f0",
   "metadata": {
    "_kg_hide-input": true,
    "papermill": {
     "duration": 0.003157,
     "end_time": "2023-02-27T09:36:47.745357",
     "exception": false,
     "start_time": "2023-02-27T09:36:47.742200",
     "status": "completed"
    },
    "tags": []
   },
   "source": [
    "Son correctas la 1 y la 2. Es un modelo ya preentrenado, no se necesitan los datos (imágenes del mundo real) con los que fue preentrenada. El modelo descargado no sabe identificar fusibles, porque entre las imágenes de preentrenamiento no hay fusibles, pero gracias a la transferencia de aprendizaje podemos **afinar, reentrenar** el modelo con los datos de nuestro problema: fotos de cajas de fusibles más las coordenadas y amperaje de los fusibles."
   ]
  },
  {
   "cell_type": "markdown",
   "id": "44f3314b",
   "metadata": {
    "papermill": {
     "duration": 0.003082,
     "end_time": "2023-02-27T09:36:47.751871",
     "exception": false,
     "start_time": "2023-02-27T09:36:47.748789",
     "status": "completed"
    },
    "tags": []
   },
   "source": [
    "**2 - ¿Cuál de las siguientes afirmaciones es cierta respecto al conjunto de datos de reentrenamiento o afinado de un modelo para la detección de objetos?**\n",
    "1. Estará formado sólo por imágenes con los objetos que queremos reconocer.\n",
    "1. Estará está formado por imágenes con los objetos que queremos reconocer, además de las coordenadas de cada objeto en dichas imágenes.\n",
    "1. Estará formado por imágenes con los objetos que queremos reconocer, además de las coordenadas y la clase de cada objeto en las imágenes.\n",
    "1. No se necesitan más datos, los modelos vienen ya preentrenados."
   ]
  },
  {
   "cell_type": "markdown",
   "id": "09b460cd",
   "metadata": {
    "_kg_hide-input": true,
    "papermill": {
     "duration": 0.003156,
     "end_time": "2023-02-27T09:36:47.758753",
     "exception": false,
     "start_time": "2023-02-27T09:36:47.755597",
     "status": "completed"
    },
    "tags": []
   },
   "source": [
    "La correcta es la 3, se necesitan imágenes con los objetos a reconocer, las coordenadas y la clase de cada objeto. En el ejemplo del curso, cada imagen de la caja de fusibles tenía asociadas las coordenadas y la clase de fusible determinada por su amperaje."
   ]
  },
  {
   "cell_type": "markdown",
   "id": "378b762a",
   "metadata": {
    "papermill": {
     "duration": 0.003053,
     "end_time": "2023-02-27T09:36:47.765239",
     "exception": false,
     "start_time": "2023-02-27T09:36:47.762186",
     "status": "completed"
    },
    "tags": []
   },
   "source": [
    "**3 - ¿Cuál es el coste asociado a un falso positivo (detectar un fallo en una caja de fusibles correcta) o un falso negativo (no detectar un fallo en una caja de fusibles incorrecta) en el caso de la detección de fusibles? Di cuáles te parecen respuestas correctas:**\n",
    "1. El coste del falso positivo es que el montador del cableado tenga que revisar una caja de fusibles que en realidad está bien montada.\n",
    "1. El coste del falso negativo es que el montador del cableado tenga que revisar una caja de fusibles que tiene algún fusible incorrecto.\n",
    "1. El coste del falso negativo es que una vez montado el cableado en el automóvil, el coche no funcione o un fusible erróneo se funda sin motivo.\n",
    "1. El coste del falso negativo es que una vez montado el cableado en el automóvil, un fusible erróneo no se funda cuando debiera, ocasionando una avería o incluso un accidente."
   ]
  },
  {
   "cell_type": "markdown",
   "id": "ce546362",
   "metadata": {
    "_kg_hide-input": true,
    "papermill": {
     "duration": 0.003014,
     "end_time": "2023-02-27T09:36:47.771618",
     "exception": false,
     "start_time": "2023-02-27T09:36:47.768604",
     "status": "completed"
    },
    "tags": []
   },
   "source": [
    "Son correctas la 1, la 3 y la 4. El falso positivo tiene poco coste: una revisión manual innecesaria por parte del montador. En el caso de un falso negativo el montador da por bueno el cableado sin percatarse de que hay algún fusible incorrecto. Si falta un fusible, el coche probablemente no funcione. Si hay un fusible erróneo de menor amperaje que el debido, se fundirá sin motivo. En el peor de los casos habrá un fusible de mayor amperaje que el debido. En este caso una sobrecarga podría averiar el sistema que debería proteger el fusible, pudiéndo provocar una avería o incluso un accidente. "
   ]
  },
  {
   "cell_type": "markdown",
   "id": "04a065cf",
   "metadata": {
    "papermill": {
     "duration": 0.003105,
     "end_time": "2023-02-27T09:36:47.778102",
     "exception": false,
     "start_time": "2023-02-27T09:36:47.774997",
     "status": "completed"
    },
    "tags": []
   },
   "source": [
    "**4 - Debido al coste de los errores, el rendimiento del modelo tendría que ser casi perfecto. El rendimiento del experimento del curso dista de ser perfecto. ¿Te parece viable el proyecto? Elige la respuesta más razonable.**\n",
    "1. No parece viable, la detección de fusibles parece un problema irresoluble con aprendizaje máquina, siempre será necesaria una revisión manual.\n",
    "1. Seguramente sí, sólo hace falta entrenar el modelo durante más épocas.\n",
    "1. Seguramente sí, solo hacen falta más datos de reentrenamiento."
   ]
  },
  {
   "cell_type": "markdown",
   "id": "750862a8",
   "metadata": {
    "_kg_hide-input": true,
    "papermill": {
     "duration": 0.003025,
     "end_time": "2023-02-27T09:36:47.784513",
     "exception": false,
     "start_time": "2023-02-27T09:36:47.781488",
     "status": "completed"
    },
    "tags": []
   },
   "source": [
    "La más razobable es la 3, el conjunto de datos de reentrenamiento de este experimento es muy pequeño."
   ]
  },
  {
   "cell_type": "markdown",
   "id": "4dd7f8d9",
   "metadata": {
    "papermill": {
     "duration": 0.00305,
     "end_time": "2023-02-27T09:36:47.791009",
     "exception": false,
     "start_time": "2023-02-27T09:36:47.787959",
     "status": "completed"
    },
    "tags": []
   },
   "source": [
    "**5 - Los equipos de control de calidad para las cajas de fusibles no son teléfonos móviles. ¿Qué sentido tiene elegir un modelo preentrenado basado en una arquitectura [mobilenet](https://paperswithcode.com/method/mobilenetv1)? Elige una respuesta:**\n",
    "1. Para que los operarios que montan los cableados controlen los equipos de control de calidad con sus teléfonos móviles\n",
    "1. Porque los equipos de control de calidad pueden ser dispositivos con poca capacidad de computación.\n",
    "1. Porque los modelos preentrenados se descargan de Internet."
   ]
  },
  {
   "cell_type": "markdown",
   "id": "38b43727",
   "metadata": {
    "papermill": {
     "duration": 0.003058,
     "end_time": "2023-02-27T09:36:47.797394",
     "exception": false,
     "start_time": "2023-02-27T09:36:47.794336",
     "status": "completed"
    },
    "tags": []
   },
   "source": [
    "La correcta es la 2, mobilenet es adecuada para dispositivos con poca capacidad, como teléfonos móviles, pero no sólo teléfonos móviles."
   ]
  },
  {
   "cell_type": "markdown",
   "id": "837bd326",
   "metadata": {
    "papermill": {
     "duration": 0.003048,
     "end_time": "2023-02-27T09:36:47.803785",
     "exception": false,
     "start_time": "2023-02-27T09:36:47.800737",
     "status": "completed"
    },
    "tags": []
   },
   "source": [
    "**6 - Un modelo de detección de objetos casi siempre estará integrado en otro sistema de información. Lo mismo puede decirse de casi cualquier modelo de aprendizaje máquina. A este respecto ¿Cuáles de las siguientes afirmaciones te parecen ciertas?**\n",
    "\n",
    "1. Al calcular el coste de un proyecto de aprendizaje máquina siempre habrá que tener en cuenta el coste de la integración del modelo.\n",
    "1. En el coste de la integración habrá que tener en cuenta que el modelo de aprendizaje máquina puede que no resuelva directamente el problema que queremos resolver.\n",
    "1. En el coste de la integración habrá que tener en cuenta el posible coste del cambio en la experiencia del usuario, en caso de que la inclusión de un modelo de aprendizaje máquina no sea transparente e incluya cambios en el proceso actual.\n"
   ]
  },
  {
   "cell_type": "markdown",
   "id": "d52887ab",
   "metadata": {
    "_kg_hide-input": true,
    "papermill": {
     "duration": 0.003006,
     "end_time": "2023-02-27T09:36:47.810181",
     "exception": false,
     "start_time": "2023-02-27T09:36:47.807175",
     "status": "completed"
    },
    "tags": []
   },
   "source": [
    "Todas son ciertas. Siempre hay que tener en cuenta el coste de integración, que dependiendo del caso puede ser superior al del desarrollo del modelo. En muchos casos el modelo no resuelve por completo el problema: por ejemplo, en el caso de las cajas de fusibles, el modelo detecta la posición y valor de cada fusible, pero no nos dice si hay errores. Para identificar los errores el sistema de control de calidad tendrá que comparar el resultado del modelo, es decir, qué fusibles hay en la caja, con los fusibles que deberían ir en la caja. Y la inclusión de un modelo de aprendizaje máquina en un proceso no suele ser transparente para el usuario final: por ejemplo, los montadores de cableados tendrán que aprender a colocar la caja de fusibles de manera que la cámara pueda obtener imágenes nítidas de la caja, y también tendrán que aprender a identificar los avisos del sistema cuando encuentre un error de montaje de la caja de fusibles."
   ]
  },
  {
   "cell_type": "markdown",
   "id": "a993d7d9",
   "metadata": {
    "papermill": {
     "duration": 0.002996,
     "end_time": "2023-02-27T09:36:47.816402",
     "exception": false,
     "start_time": "2023-02-27T09:36:47.813406",
     "status": "completed"
    },
    "tags": []
   },
   "source": [
    "**7 - En cuanto a la creación de conjuntos de datos de entrenamiento ¿Cuáles de las siguientes afirmaciones te parecen correctas?**\n",
    "1. Sería más fácil su obtención si en el momento de crear sistemas de información se incluyesen en los requisitos facilitar la futura explotación de la información que gestionan.\n",
    "1. Es costosa porque casi siempre se precisa trabajo manual, muchas veces por parte de expertos en la materia.\n",
    "1. Para algunos casos de uso hay herramientas que ayudan a los expertos. Por ejemplo, [Label Studio](https://labelstud.io/) para etiquetar conjuntos de datos para detección de objetos.\n",
    "1. Es más fácil obtenerlos para problemas de aprendizaje máquina no supervisado, ya que no hay que proporcionar la 'salida' correcta del modelo en cada ejemplo de entrenamiento."
   ]
  },
  {
   "cell_type": "markdown",
   "id": "ff60c3ca",
   "metadata": {
    "_kg_hide-input": true,
    "papermill": {
     "duration": 0.003284,
     "end_time": "2023-02-27T09:36:47.822943",
     "exception": false,
     "start_time": "2023-02-27T09:36:47.819659",
     "status": "completed"
    },
    "tags": []
   },
   "source": [
    "Todas son ciertas.  Pocas veces pensamos en la futura explotación de los datos que gestionan nuestros sistemas de información, por lo que muchas veces se precisa mucho trabajo 'manual' en la creación de un dataset de entrenamiento, y aunque haya herramientas que ayudan, siempre resulta costoso. Por otra parte, en los casos de aprendizaje no supervisado no suele hacer falta mucho trabajo manual. Lamentablemente hay menos problemas que se puedan resolver con aprendizaje no supervisado."
   ]
  }
 ],
 "metadata": {
  "kernelspec": {
   "display_name": "Python 3",
   "language": "python",
   "name": "python3"
  },
  "language_info": {
   "codemirror_mode": {
    "name": "ipython",
    "version": 3
   },
   "file_extension": ".py",
   "mimetype": "text/x-python",
   "name": "python",
   "nbconvert_exporter": "python",
   "pygments_lexer": "ipython3",
   "version": "3.7.12"
  },
  "papermill": {
   "default_parameters": {},
   "duration": 10.759536,
   "end_time": "2023-02-27T09:36:48.451044",
   "environment_variables": {},
   "exception": null,
   "input_path": "__notebook__.ipynb",
   "output_path": "__notebook__.ipynb",
   "parameters": {},
   "start_time": "2023-02-27T09:36:37.691508",
   "version": "2.3.4"
  }
 },
 "nbformat": 4,
 "nbformat_minor": 5
}
