{
 "cells": [
  {
   "cell_type": "markdown",
   "id": "2af29c6b",
   "metadata": {
    "papermill": {
     "duration": 0.004831,
     "end_time": "2023-02-27T12:17:31.867879",
     "exception": false,
     "start_time": "2023-02-27T12:17:31.863048",
     "status": "completed"
    },
    "tags": []
   },
   "source": [
    "## Algunos ejemplos de Aprendizaje Profundo\n",
    "## Detección de objetos para control de calidad\n",
    "### Autoevaluación"
   ]
  },
  {
   "cell_type": "markdown",
   "id": "fcc7885e",
   "metadata": {
    "papermill": {
     "duration": 0.003114,
     "end_time": "2023-02-27T12:17:31.874682",
     "exception": false,
     "start_time": "2023-02-27T12:17:31.871568",
     "status": "completed"
    },
    "tags": []
   },
   "source": [
    "**1 - ¿Cuales de las siguientes afirmaciones son ciertas respecto al modelo para detección de objetos 'yolo3_darknet53_voc' de la librería GluonCV?**\n",
    "\n",
    "1. Es una red neuronal con una arquitectura de capas concreta, conocida como [darknet53](https://paperswithcode.com/method/darknet-53).\n",
    "1. Es una red neuronal preentrenada para la detección de objetos en tiempo real.\n",
    "1. Comprende una red neuronal y un conjunto de datos del mundo real que se pueden descargar para poder entrenarla para el reconocimiento de objetos en tiempo real.\n",
    "1. Es una red neuronal preentrenada para la detección de fusibles."
   ]
  },
  {
   "cell_type": "markdown",
   "id": "dcd487a6",
   "metadata": {
    "_kg_hide-input": true,
    "papermill": {
     "duration": 0.00303,
     "end_time": "2023-02-27T12:17:31.881156",
     "exception": false,
     "start_time": "2023-02-27T12:17:31.878126",
     "status": "completed"
    },
    "tags": []
   },
   "source": [
    "Son correctas la 1 y la 2. Es un modelo ya preentrenado, no se necesitan los datos (imágenes del mundo real) con los que fue preentrenada. El modelo descargado no sabe identificar fusibles, porque entre las imágenes de preentrenamiento no hay fusibles, pero gracias a la transferencia de aprendizaje podemos **afinar, reentrenar** el modelo con los datos de nuestro problema: fotos de cajas de fusibles más las coordenadas y amperaje de los fusibles."
   ]
  },
  {
   "cell_type": "markdown",
   "id": "e7a667bd",
   "metadata": {
    "papermill": {
     "duration": 0.003015,
     "end_time": "2023-02-27T12:17:31.887535",
     "exception": false,
     "start_time": "2023-02-27T12:17:31.884520",
     "status": "completed"
    },
    "tags": []
   },
   "source": [
    "**2 - ¿Cuál de las siguientes afirmaciones es cierta respecto al conjunto de datos de reentrenamiento o afinado de un modelo para la detección de objetos?**\n",
    "1. Estará formado sólo por imágenes con los objetos que queremos reconocer.\n",
    "1. Estará está formado por imágenes con los objetos que queremos reconocer, además de las coordenadas de cada objeto en dichas imágenes.\n",
    "1. Estará formado por imágenes con los objetos que queremos reconocer, además de las coordenadas y la clase de cada objeto en las imágenes.\n",
    "1. No se necesitan más datos, los modelos vienen ya preentrenados."
   ]
  },
  {
   "cell_type": "markdown",
   "id": "85d1e422",
   "metadata": {
    "_kg_hide-input": true,
    "papermill": {
     "duration": 0.003045,
     "end_time": "2023-02-27T12:17:31.893913",
     "exception": false,
     "start_time": "2023-02-27T12:17:31.890868",
     "status": "completed"
    },
    "tags": []
   },
   "source": [
    "La correcta es la 3, se necesitan imágenes con los objetos a reconocer, las coordenadas y la clase de cada objeto. En el ejemplo del curso, cada imagen de la caja de fusibles tenía asociadas las coordenadas y la clase de fusible determinada por su amperaje."
   ]
  },
  {
   "cell_type": "markdown",
   "id": "e150e934",
   "metadata": {
    "papermill": {
     "duration": 0.00302,
     "end_time": "2023-02-27T12:17:31.900189",
     "exception": false,
     "start_time": "2023-02-27T12:17:31.897169",
     "status": "completed"
    },
    "tags": []
   },
   "source": [
    "**3 - ¿Cuál es el coste asociado a un falso positivo (detectar un fallo en una caja de fusibles correcta) o un falso negativo (no detectar un fallo en una caja de fusibles incorrecta) en el caso de la detección de fusibles? Di cuáles te parecen respuestas correctas:**\n",
    "1. El coste del falso positivo es que el montador del cableado tenga que revisar una caja de fusibles que en realidad está bien montada.\n",
    "1. El coste del falso negativo es que el montador del cableado tenga que revisar una caja de fusibles que tiene algún fusible incorrecto.\n",
    "1. El coste del falso negativo es que una vez montado el cableado en el automóvil, el coche no funcione o un fusible erróneo se funda sin motivo.\n",
    "1. El coste del falso negativo es que una vez montado el cableado en el automóvil, un fusible erróneo no se funda cuando debiera, ocasionando una avería o incluso un accidente."
   ]
  },
  {
   "cell_type": "markdown",
   "id": "8f230c73",
   "metadata": {
    "_kg_hide-input": true,
    "papermill": {
     "duration": 0.002996,
     "end_time": "2023-02-27T12:17:31.906474",
     "exception": false,
     "start_time": "2023-02-27T12:17:31.903478",
     "status": "completed"
    },
    "tags": []
   },
   "source": [
    "Son correctas la 1, la 3 y la 4. El falso positivo tiene poco coste: una revisión manual innecesaria por parte del montador. En el caso de un falso negativo el montador da por bueno el cableado sin percatarse de que hay algún fusible incorrecto. Si falta un fusible, el coche probablemente no funcione. Si hay un fusible erróneo de menor amperaje que el debido, se fundirá sin motivo. En el peor de los casos habrá un fusible de mayor amperaje que el debido. En este caso una sobrecarga podría averiar el sistema que debería proteger el fusible, pudiéndo provocar una avería o incluso un accidente. "
   ]
  },
  {
   "cell_type": "markdown",
   "id": "5a88dacb",
   "metadata": {
    "papermill": {
     "duration": 0.003041,
     "end_time": "2023-02-27T12:17:31.912787",
     "exception": false,
     "start_time": "2023-02-27T12:17:31.909746",
     "status": "completed"
    },
    "tags": []
   },
   "source": [
    "**4 - Debido al coste de los errores, el rendimiento del modelo tendría que ser casi perfecto. El rendimiento del experimento del curso dista de ser perfecto. ¿Te parece viable el proyecto? Elige la respuesta más razonable.**\n",
    "1. No parece viable, la detección de fusibles parece un problema irresoluble con aprendizaje máquina, siempre será necesaria una revisión manual.\n",
    "1. Seguramente sí, sólo hace falta entrenar el modelo durante más épocas.\n",
    "1. Seguramente sí, solo hacen falta más datos de reentrenamiento."
   ]
  },
  {
   "cell_type": "markdown",
   "id": "069229e3",
   "metadata": {
    "_kg_hide-input": true,
    "papermill": {
     "duration": 0.002973,
     "end_time": "2023-02-27T12:17:31.919012",
     "exception": false,
     "start_time": "2023-02-27T12:17:31.916039",
     "status": "completed"
    },
    "tags": []
   },
   "source": [
    "La más razobable es la 3, el conjunto de datos de reentrenamiento de este experimento es muy pequeño."
   ]
  },
  {
   "cell_type": "markdown",
   "id": "eb556770",
   "metadata": {
    "papermill": {
     "duration": 0.003105,
     "end_time": "2023-02-27T12:17:31.925409",
     "exception": false,
     "start_time": "2023-02-27T12:17:31.922304",
     "status": "completed"
    },
    "tags": []
   },
   "source": [
    "**5 - Los equipos de control de calidad para las cajas de fusibles no son teléfonos móviles. ¿Qué sentido tiene elegir un modelo preentrenado basado en una arquitectura [mobilenet](https://paperswithcode.com/method/mobilenetv1)? Elige una respuesta:**\n",
    "1. Para que los operarios que montan los cableados controlen los equipos de control de calidad con sus teléfonos móviles\n",
    "1. Porque los equipos de control de calidad pueden ser dispositivos con poca capacidad de computación.\n",
    "1. Porque los modelos preentrenados se descargan de Internet."
   ]
  },
  {
   "cell_type": "markdown",
   "id": "76e7a193",
   "metadata": {
    "_kg_hide-input": true,
    "papermill": {
     "duration": 0.002998,
     "end_time": "2023-02-27T12:17:31.931605",
     "exception": false,
     "start_time": "2023-02-27T12:17:31.928607",
     "status": "completed"
    },
    "tags": []
   },
   "source": [
    "La correcta es la 2, mobilenet es adecuada para dispositivos con poca capacidad, como teléfonos móviles, pero no sólo teléfonos móviles."
   ]
  },
  {
   "cell_type": "markdown",
   "id": "722dd896",
   "metadata": {
    "papermill": {
     "duration": 0.003011,
     "end_time": "2023-02-27T12:17:31.937811",
     "exception": false,
     "start_time": "2023-02-27T12:17:31.934800",
     "status": "completed"
    },
    "tags": []
   },
   "source": [
    "**6 - Un modelo de detección de objetos casi siempre estará integrado en otro sistema de información. Lo mismo puede decirse de casi cualquier modelo de aprendizaje máquina. A este respecto ¿Cuáles de las siguientes afirmaciones te parecen ciertas?**\n",
    "\n",
    "1. Al calcular el coste de un proyecto de aprendizaje máquina siempre habrá que tener en cuenta el coste de la integración del modelo.\n",
    "1. En el coste de la integración habrá que tener en cuenta que el modelo de aprendizaje máquina puede que no resuelva directamente el problema que queremos resolver.\n",
    "1. En el coste de la integración habrá que tener en cuenta el posible coste del cambio en la experiencia del usuario, en caso de que la inclusión de un modelo de aprendizaje máquina no sea transparente e incluya cambios en el proceso actual.\n"
   ]
  },
  {
   "cell_type": "markdown",
   "id": "0661d433",
   "metadata": {
    "_kg_hide-input": true,
    "papermill": {
     "duration": 0.002986,
     "end_time": "2023-02-27T12:17:31.944144",
     "exception": false,
     "start_time": "2023-02-27T12:17:31.941158",
     "status": "completed"
    },
    "tags": []
   },
   "source": [
    "Todas son ciertas. Siempre hay que tener en cuenta el coste de integración, que dependiendo del caso puede ser superior al del desarrollo del modelo. En muchos casos el modelo no resuelve por completo el problema: por ejemplo, en el caso de las cajas de fusibles, el modelo detecta la posición y valor de cada fusible, pero no nos dice si hay errores. Para identificar los errores el sistema de control de calidad tendrá que comparar el resultado del modelo, es decir, qué fusibles hay en la caja, con los fusibles que deberían ir en la caja. Y la inclusión de un modelo de aprendizaje máquina en un proceso no suele ser transparente para el usuario final: por ejemplo, los montadores de cableados tendrán que aprender a colocar la caja de fusibles de manera que la cámara pueda obtener imágenes nítidas de la caja, y también tendrán que aprender a identificar los avisos del sistema cuando encuentre un error de montaje de la caja de fusibles."
   ]
  },
  {
   "cell_type": "markdown",
   "id": "ebf1debc",
   "metadata": {
    "papermill": {
     "duration": 0.002976,
     "end_time": "2023-02-27T12:17:31.950300",
     "exception": false,
     "start_time": "2023-02-27T12:17:31.947324",
     "status": "completed"
    },
    "tags": []
   },
   "source": [
    "**7 - En cuanto a la creación de conjuntos de datos de entrenamiento ¿Cuáles de las siguientes afirmaciones te parecen correctas?**\n",
    "1. Sería más fácil su obtención si en el momento de crear sistemas de información se incluyesen en los requisitos facilitar la futura explotación de la información que gestionan.\n",
    "1. Es costosa porque casi siempre se precisa trabajo manual, muchas veces por parte de expertos en la materia.\n",
    "1. Para algunos casos de uso hay herramientas que ayudan a los expertos. Por ejemplo, [Label Studio](https://labelstud.io/) para etiquetar conjuntos de datos para detección de objetos.\n",
    "1. Es más fácil obtenerlos para problemas de aprendizaje máquina no supervisado, ya que no hay que proporcionar la 'salida' correcta del modelo en cada ejemplo de entrenamiento."
   ]
  },
  {
   "cell_type": "markdown",
   "id": "9806d099",
   "metadata": {
    "_kg_hide-input": true,
    "papermill": {
     "duration": 0.003002,
     "end_time": "2023-02-27T12:17:31.956676",
     "exception": false,
     "start_time": "2023-02-27T12:17:31.953674",
     "status": "completed"
    },
    "tags": []
   },
   "source": [
    "Todas son ciertas.  Pocas veces pensamos en la futura explotación de los datos que gestionan nuestros sistemas de información, por lo que muchas veces se precisa mucho trabajo 'manual' en la creación de un dataset de entrenamiento, y aunque haya herramientas que ayudan, siempre resulta costoso. Por otra parte, en los casos de aprendizaje no supervisado no suele hacer falta mucho trabajo manual. Lamentablemente hay menos problemas que se puedan resolver con aprendizaje no supervisado."
   ]
  }
 ],
 "metadata": {
  "kernelspec": {
   "display_name": "Python 3",
   "language": "python",
   "name": "python3"
  },
  "language_info": {
   "codemirror_mode": {
    "name": "ipython",
    "version": 3
   },
   "file_extension": ".py",
   "mimetype": "text/x-python",
   "name": "python",
   "nbconvert_exporter": "python",
   "pygments_lexer": "ipython3",
   "version": "3.7.12"
  },
  "papermill": {
   "default_parameters": {},
   "duration": 10.600794,
   "end_time": "2023-02-27T12:17:32.584447",
   "environment_variables": {},
   "exception": null,
   "input_path": "__notebook__.ipynb",
   "output_path": "__notebook__.ipynb",
   "parameters": {},
   "start_time": "2023-02-27T12:17:21.983653",
   "version": "2.3.4"
  }
 },
 "nbformat": 4,
 "nbformat_minor": 5
}
