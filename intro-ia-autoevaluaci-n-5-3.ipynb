{
 "cells": [
  {
   "cell_type": "markdown",
   "id": "30890ab9",
   "metadata": {
    "papermill": {
     "duration": 0.00492,
     "end_time": "2023-02-27T12:09:54.112045",
     "exception": false,
     "start_time": "2023-02-27T12:09:54.107125",
     "status": "completed"
    },
    "tags": []
   },
   "source": [
    "# Algunos ejemplos de Aprendizaje Profundo\n",
    "## Procesamiento de lenguaje natural (NLP)\n",
    "### Autoevaluación"
   ]
  },
  {
   "cell_type": "markdown",
   "id": "3351db08",
   "metadata": {
    "papermill": {
     "duration": 0.003278,
     "end_time": "2023-02-27T12:09:54.119287",
     "exception": false,
     "start_time": "2023-02-27T12:09:54.116009",
     "status": "completed"
    },
    "tags": []
   },
   "source": [
    "**1 - En cuanto a los modelos de lenguaje ¿Cuáles de las siguientes afirmaciones te parecen correctas?**\n",
    "1. Un modelo de lenguaje se entrena para tareas sencillas, como por ejemplo predecir cómo continuar un texto.\n",
    "1. Un modelo de lenguaje se entrena siempre desde el principio para tareas complejas concretas, como la traducción entre idiomas.\n",
    "1. Se entrenan mediante aprendizaje no supervisado.\n",
    "1. Si la frase \"En un lugar de La Mancha\" forma parte del conjunto de de datos de entrenamiento las palabras \"En\", \"un\", \"lugar\", \"de\", \"La\" son variables de entrada del modelo, y el objetivo o salida es la palabra \"Mancha\".\n",
    "1. El proceso de entrenamiento se denomina aprendizaje autosupervisado."
   ]
  },
  {
   "cell_type": "markdown",
   "id": "c890fd94",
   "metadata": {
    "_kg_hide-input": true,
    "papermill": {
     "duration": 0.003313,
     "end_time": "2023-02-27T12:09:54.126349",
     "exception": false,
     "start_time": "2023-02-27T12:09:54.123036",
     "status": "completed"
    },
    "tags": []
   },
   "source": [
    "Son correctas la 1, la 4 y la 5. Habitualmente los casos de uso  más complejos se entrenan por transferencia de aprendizaje a partir de modelos de lenguaje entrenados para tareas sencillas, como predecir la continuación de un texto. El entrenamiento para esta tarea es supervisado: en los datos de entrenamiento tenemos como entrada el texto a continuar, y como objetivo la siguiente palabra del texto. Pero como obtener estos datos de entrenamiento es automático, se denomina aprendizaje autosupervisado."
   ]
  },
  {
   "cell_type": "markdown",
   "id": "123e1782",
   "metadata": {
    "papermill": {
     "duration": 0.003688,
     "end_time": "2023-02-27T12:09:54.133606",
     "exception": false,
     "start_time": "2023-02-27T12:09:54.129918",
     "status": "completed"
    },
    "tags": []
   },
   "source": [
    "**2 - ¿Con qué datos se preentrenan los modelos de lenguaje? Elige una respuesta:**\n",
    "\n",
    "1. Con pocos documentos cuidadosamente seleccionados para que el modelo resultante sea de gran calidad y no tenga sesgos.\n",
    "1. Con grandes cantidades de documentos revisados cuidadosamente para evitar sesgos.\n",
    "1. Con grandes cantidades de documentos de reconocida calidad gramática (por ejemplo, Wikipedia), pero sin demasiada supervisión, de manera que los modelos resultantes pueden heredar los sesgos de los autores."
   ]
  },
  {
   "cell_type": "markdown",
   "id": "4354b7f2",
   "metadata": {
    "_kg_hide-input": true,
    "papermill": {
     "duration": 0.003163,
     "end_time": "2023-02-27T12:09:54.140274",
     "exception": false,
     "start_time": "2023-02-27T12:09:54.137111",
     "status": "completed"
    },
    "tags": []
   },
   "source": [
    "La correcta es la 3. Los modelos de lenguaje pueden heredar el sesgo de los autores."
   ]
  },
  {
   "cell_type": "markdown",
   "id": "770b68e9",
   "metadata": {
    "papermill": {
     "duration": 0.003106,
     "end_time": "2023-02-27T12:09:54.146840",
     "exception": false,
     "start_time": "2023-02-27T12:09:54.143734",
     "status": "completed"
    },
    "tags": []
   },
   "source": [
    "**3 - ¿Por qué el aprendizaje de un lenguaje de modelo se denomina 'autosupervisado'?**\n",
    "\n",
    "1. Porque el entrenamiento es automático, sin supervisión humana.\n",
    "1. Porque, aunque es aprendizaje supervisado, los ejemplos del conjunto de datos de entrenamiento se generan automáticamente.\n",
    "1. Porque la supervisión la realiza otro modelo de aprendizaje supervisado.\n"
   ]
  },
  {
   "cell_type": "markdown",
   "id": "3282ad19",
   "metadata": {
    "_kg_hide-input": true,
    "papermill": {
     "duration": 0.003094,
     "end_time": "2023-02-27T12:09:54.153400",
     "exception": false,
     "start_time": "2023-02-27T12:09:54.150306",
     "status": "completed"
    },
    "tags": []
   },
   "source": [
    "La correcta es la 2, los ejemplos se generan automáticamente del propio texto. Por ejemplo, si la frase \"En un lugar de La Mancha\" forma parte del conjunto de de datos de entrenamiento, las palabras \"En\", \"un\", \"lugar\", \"de\", \"La\" son variables de entrada del modelo, y el objetivo o salida es la palabra \"Mancha\"."
   ]
  },
  {
   "cell_type": "markdown",
   "id": "1783b128",
   "metadata": {
    "papermill": {
     "duration": 0.003055,
     "end_time": "2023-02-27T12:09:54.159859",
     "exception": false,
     "start_time": "2023-02-27T12:09:54.156804",
     "status": "completed"
    },
    "tags": []
   },
   "source": [
    "**4 - Imagina que se necesita un sistema para clasificar correos electrónicos de un servicio de atención al paciente, en función de su importancia, para poder priorizarlos, ya que actualmente se atienden simplemente por orden de llegada. Cuáles de las siguientes afirmaciónes te parecen razonables:**\n",
    "\n",
    "1. Para entrenar un modelo de aprendizaje máquina necesitamos un gran conjunto de mensajes priorizados a mano por personal cualificado.\n",
    "1. No tiene sentido partir de un modelo preentrenado con información sacada de Internet, ya que en Internet hay muy poca información médica fiable.\n",
    "1. Sabemos que el servicio de Salud de otra comunidad autónoma ha desarrollado con éxito un sistema similar para atención primaria. No nos interesa su experiencia porque nuestro sistema es para atención especializada.\n",
    "1. El coste de un error en la priorización del modelo es inasumible, ya que un mensaje importante se atendería más tarde que otros menos importantes."
   ]
  },
  {
   "cell_type": "markdown",
   "id": "6b7927ea",
   "metadata": {
    "_kg_hide-input": true,
    "papermill": {
     "duration": 0.00302,
     "end_time": "2023-02-27T12:09:54.166166",
     "exception": false,
     "start_time": "2023-02-27T12:09:54.163146",
     "status": "completed"
    },
    "tags": []
   },
   "source": [
    "Sólo es correcta la 1. La calidad del modelo resultante será directamente proporcional al esfuerzo de preparar un conjunto representativo de entrenamiento. La transferencia de aprendizaje a partir de un modelo de lenguaje preentrenado significa que nuestro modelo parte de un conocimiento general sobre el lenguaje, es en el afinado, con nuestros mensajes, cuando nuestro modelo aprenderá a clasificar mensajes con reclamaciones médicas. Por otra parte, podemos aprender mucho de una experiencia similar, aunque no sea idéntica a la nuestra. Como mínimo aprenderemos sobre la construcción del conjunto de datos de entrenamiento, la arquitectura del modelo, y es muy posible que incluso consiguiéramos muy buenos resultados con poco esfuerzo afinando su modelo con nuestro propio conjunto de datos de entrenamiento."
   ]
  },
  {
   "cell_type": "markdown",
   "id": "c8a4f936",
   "metadata": {
    "papermill": {
     "duration": 0.003428,
     "end_time": "2023-02-27T12:09:54.173058",
     "exception": false,
     "start_time": "2023-02-27T12:09:54.169630",
     "status": "completed"
    },
    "tags": []
   },
   "source": [
    "**5 - En el [repositorio de modelos de Huggingface](https://huggingface.co/models) hay muchos modelos que incluyen la palabra 'small' en su nombre. ¿Por qué te parece que puede ser? Elige una respuesta**\n",
    "1. Porque son modelos de NLP entrenados con textos en minúscula.\n",
    "1. Porque son versiones de un modelo con menos parámetros que sus 'hermanos mayores'.\n",
    "1. Porque son modelos preentrenados con pequeños conjuntos de datos de entrenamiento.\n",
    "1. Porque son modelos de imagen digital especializados en objetos pequeños."
   ]
  },
  {
   "cell_type": "markdown",
   "id": "cf56c48e",
   "metadata": {
    "_kg_hide-input": true,
    "papermill": {
     "duration": 0.003152,
     "end_time": "2023-02-27T12:09:54.179714",
     "exception": false,
     "start_time": "2023-02-27T12:09:54.176562",
     "status": "completed"
    },
    "tags": []
   },
   "source": [
    "La correcta es la 2. Muchas veces los modelos preentrenados se publican con diferentes versiones con diferente número de parámetros."
   ]
  },
  {
   "cell_type": "markdown",
   "id": "3260262b",
   "metadata": {
    "papermill": {
     "duration": 0.003195,
     "end_time": "2023-02-27T12:09:54.186328",
     "exception": false,
     "start_time": "2023-02-27T12:09:54.183133",
     "status": "completed"
    },
    "tags": []
   },
   "source": [
    "**6 - En cuanto a la transferencia de aprendizaje, cuáles de las siguientes afirmaciones te parecen correctas:**\n",
    "1. La única forma de aprovechar un conjunto de datos público es añadir sus datos a nuestros datos de entrenamiento, para entrenar nuestro modelo con más datos.\n",
    "1. Usar un modelo público preentrenado frente a usar un conjunto de datos público tiene la ventaja de que ahorramos en potencia de computación.\n",
    "1. Tanto los conjuntos de datos como los modelos públicos preentrenados pueden estar sesgados.\n",
    "1. Hay modelos preentrenados de altísima calidad accesibles sólo mediante el pago por uso."
   ]
  },
  {
   "cell_type": "markdown",
   "id": "2c996945",
   "metadata": {
    "_kg_hide-input": true,
    "papermill": {
     "duration": 0.003146,
     "end_time": "2023-02-27T12:09:54.193035",
     "exception": false,
     "start_time": "2023-02-27T12:09:54.189889",
     "status": "completed"
    },
    "tags": []
   },
   "source": [
    "Son ciertas la 2, la 3 y la 4. Una forma de aprovechar un conjunto de datos público es entrenar con ellos un modelo y afinarlo después con nuestros propios datos, para evitar posibles sesgos en los datos públicos, sesgos que pueden aparecer tanto en datos como en modelos públicos. Partir de un modelo preentrenado y afinarlo con nuestros datos es menos costoso computacionalmente que entrenar un modelo completo con todos los datos. Por último, hay modelos como los de [OpenAI](https://openai.com/), accesibles por pago por uso, que se consideran los mejores en su campo."
   ]
  },
  {
   "cell_type": "markdown",
   "id": "82e7ff1b",
   "metadata": {
    "papermill": {
     "duration": 0.003108,
     "end_time": "2023-02-27T12:09:54.199582",
     "exception": false,
     "start_time": "2023-02-27T12:09:54.196474",
     "status": "completed"
    },
    "tags": []
   },
   "source": [
    "**7 - En cuanto al servicio de [OpenAI](https://openai.com/) para usar su modelo GPT-3, cuáles de las siguientes afirmaciones te parecen correctas:**\n",
    "1. Descargar el modelo GPT-3 tiene un coste, pero afinarlo y/o usarlo no tienen coste asociado.\n",
    "1. No se puede descargar, el uso y el afinado es un servicio de pago por suscripción.\n",
    "1. El afinado del modelo tiene poco coste, pero el uso del modelo afinado tiene un coste mucho más alto.\n",
    "1. No tiene sentido usarlo, ChatGPT está basado en GPT-3, y se equivoca muchísimo."
   ]
  },
  {
   "cell_type": "markdown",
   "id": "9720967d",
   "metadata": {
    "_kg_hide-input": true,
    "papermill": {
     "duration": 0.003156,
     "end_time": "2023-02-27T12:09:54.206206",
     "exception": false,
     "start_time": "2023-02-27T12:09:54.203050",
     "status": "completed"
    },
    "tags": []
   },
   "source": [
    "Sólo es correcta la 2. GPT-3 no se puede descargar,se accede a un servicio de pago mediante una API, y el afinado (reentranamiento) del modelo cuesta mucho más que el uso del modelo afinado. Por último, aunque ChatGPT se equivoque, GPT-3 sigue siendo uno de los modelos de lenguaje más avanzados, y si se afina para una tarea concreta puede ser de gran utilidad. Hay que tener en cuenta que ChatGPT es un chatbot de propósito general, no se puede pretender que sus respuestas sean siempre correctas. De hecho, más nos vale que no lo son. El día que lo sean nos deja a todos sin trabajo."
   ]
  }
 ],
 "metadata": {
  "kernelspec": {
   "display_name": "Python 3",
   "language": "python",
   "name": "python3"
  },
  "language_info": {
   "codemirror_mode": {
    "name": "ipython",
    "version": 3
   },
   "file_extension": ".py",
   "mimetype": "text/x-python",
   "name": "python",
   "nbconvert_exporter": "python",
   "pygments_lexer": "ipython3",
   "version": "3.7.12"
  },
  "papermill": {
   "default_parameters": {},
   "duration": 12.641719,
   "end_time": "2023-02-27T12:09:55.036779",
   "environment_variables": {},
   "exception": null,
   "input_path": "__notebook__.ipynb",
   "output_path": "__notebook__.ipynb",
   "parameters": {},
   "start_time": "2023-02-27T12:09:42.395060",
   "version": "2.3.4"
  }
 },
 "nbformat": 4,
 "nbformat_minor": 5
}
