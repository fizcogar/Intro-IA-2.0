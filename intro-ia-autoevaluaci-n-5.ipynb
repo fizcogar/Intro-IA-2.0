{
 "cells": [
  {
   "cell_type": "markdown",
   "id": "09259f2e",
   "metadata": {
    "papermill": {
     "duration": 0.00461,
     "end_time": "2023-01-16T07:56:58.441600",
     "exception": false,
     "start_time": "2023-01-16T07:56:58.436990",
     "status": "completed"
    },
    "tags": []
   },
   "source": [
    "# Algunos ejemplos de Aprendizaje Profundo\n",
    "## Autoevaluación"
   ]
  },
  {
   "cell_type": "markdown",
   "id": "946abccd",
   "metadata": {
    "papermill": {
     "duration": 0.003471,
     "end_time": "2023-01-16T07:56:58.448940",
     "exception": false,
     "start_time": "2023-01-16T07:56:58.445469",
     "status": "completed"
    },
    "tags": []
   },
   "source": [
    "**1 - El conjunto de datos público [MNIST](https://en.wikipedia.org/wiki/MNIST_database) consiste en imágenes de dígitos escritos a mano. Cada imagen está codificada en 28x28 'pixels' en escala de grises ¿Cuántos parámetros tendría un modelo de regresión lineal que a partir de una imagen calculara qué dígito representa?**\n",
    "1. 28 parámetros.\n",
    "1. 784 parámetros.\n",
    "1. 785 parámetros.\n",
    "1. Dependerá de la produndidad de la red neuronal."
   ]
  },
  {
   "cell_type": "markdown",
   "id": "54e64773",
   "metadata": {
    "_kg_hide-input": true,
    "papermill": {
     "duration": 0.003361,
     "end_time": "2023-01-16T07:56:58.455912",
     "exception": false,
     "start_time": "2023-01-16T07:56:58.452551",
     "status": "completed"
    },
    "tags": []
   },
   "source": [
    "En un modelo de regresión lineal $\\hat y = \\alpha_0 + \\alpha_1 \\cdot  x_1 + \\alpha_2 \\cdot x_2 + \\cdot\\cdot\\cdot + \\alpha_n \\cdot  x_n$ tenemos un parámetro para cada variable de entrada, más un parámetro independiente $(\\alpha_0)$. Las variables de entrada del modelo serían cada uno de los 'pixels' de la imagen, por lo que tendríamos $28 \\cdot 28 + 1 = 785$ parámetros en total."
   ]
  },
  {
   "cell_type": "markdown",
   "id": "28df18ae",
   "metadata": {
    "papermill": {
     "duration": 0.003317,
     "end_time": "2023-01-16T07:56:58.462868",
     "exception": false,
     "start_time": "2023-01-16T07:56:58.459551",
     "status": "completed"
    },
    "tags": []
   },
   "source": [
    "**2 - El síndrome de túnel carpiano es una afección en la cual existe una presión excesiva en el nervio mediano. Puede afectar a las dos manos (bilateral), aunque es más frecuente que afecte a la mano dominante. Suele diagnosticarse con exploración física, pruebas electrofisiológicas, ecografías o resonancias magnéticas, pero queremos entrenar un modelo de aprendizaje profundo para detectar síndrome de túnel carpiano en *radiografías*, que son pruebas más económicas. El conjunto de datos de entrenamiento consiste en radiografías de la mano afectada y de la mano sana de todos los paciente tratados por síndrome de túnel carpiano *unilateral*, durante los últimos diez años, por el Servicio Navarro de Salud. A pesar de que las métricas sobre los conjuntos de datos de pruebas y validación ofrecen un ratio de error cercano al 0.1%, una vez en producción el resultado es muchísimo peor. ¿Cuál de las siguientes causas te parece la más probable?**\n",
    "1. A que el conjunto de datos es demasiado pequeño.\n",
    "1. A que encontrar patrones del síndrome de túnel carpiano en radiografías es difícil, incluso para los especialistas en radiología.\n",
    "1. A que el modelo sufre de sobreajuste (overfitting).\n",
    "1. A que el conjunto de datos de entrenamiento está fuertemente sesgado: la mayoría de las radiografías 'sanas' son de la mano izquierda y las 'afectadas' de la mano derecha."
   ]
  },
  {
   "cell_type": "markdown",
   "id": "f6fdb0a1",
   "metadata": {
    "_kg_hide-input": true,
    "papermill": {
     "duration": 0.003295,
     "end_time": "2023-01-16T07:56:58.469684",
     "exception": false,
     "start_time": "2023-01-16T07:56:58.466389",
     "status": "completed"
    },
    "tags": []
   },
   "source": [
    "La más probable es la 4. Como la mayor parte de las personas son diestras, casi todas las radiografías afectadas son de la mano derecha, y las sanas de la mano izquierda, de manera que el modelo ha aprendido a diferenciar las radiografías de la mano derecha de las de la mano izquierda, ya que es un patrón mucho más facil de detectar que la patología."
   ]
  },
  {
   "cell_type": "markdown",
   "id": "dcd845d3",
   "metadata": {
    "papermill": {
     "duration": 0.00329,
     "end_time": "2023-01-16T07:56:58.476568",
     "exception": false,
     "start_time": "2023-01-16T07:56:58.473278",
     "status": "completed"
    },
    "tags": []
   },
   "source": [
    "**3 - El \"aumento de datos\" (data augmentation) en imagen digital es una técnica que genera nuevos datos de entrenamiento aplicando sencillas transformaciones gráficas a los datos existentes. Por ejemplo, en el modelo descrito anteriormente para la detección de síndrome de túnel carpiano, podemos generar imágenes espejo de las radiografías. De esa manera tendremos radiografías con patología tanto de la mano izquierda como de la derecha, eliminando el sesgo del conjunto de datos de entrenamiento. Una vez entrenado el modelo aplicando esta técnica, encontramos que el ratio de error calculado sobre el conjunto de datos de entrenamiento y sobre el conjunto de datos de validación es altísimo. ¿Cuál de las siguientes causas te parece la más probable?**\n",
    "1. Que el conjunto de datos es demasiado pequeño.\n",
    "1. Que encontrar patrones del síndrome de túnel carpiano en radiografías es difícil, incluso para los especialistas en radiología.\n",
    "1. Que el modelo sufre de sobreajuste (overfitting)."
   ]
  },
  {
   "cell_type": "markdown",
   "id": "b9a6b2b1",
   "metadata": {
    "_kg_hide-input": true,
    "papermill": {
     "duration": 0.003282,
     "end_time": "2023-01-16T07:56:58.483361",
     "exception": false,
     "start_time": "2023-01-16T07:56:58.480079",
     "status": "completed"
    },
    "tags": []
   },
   "source": [
    "La más probable es la 2. Si los especialistas no usan radiografías para diagnosticar el síndrome, probablemente sea imposible entrenar un modelo de aprendizaje máquina que lo haga bien."
   ]
  },
  {
   "cell_type": "markdown",
   "id": "9aec0b4e",
   "metadata": {
    "papermill": {
     "duration": 0.003355,
     "end_time": "2023-01-16T07:56:58.490389",
     "exception": false,
     "start_time": "2023-01-16T07:56:58.487034",
     "status": "completed"
    },
    "tags": []
   },
   "source": [
    "**4 - En un sistema de reconocimiento facial aplicado al control de acceso de una base militar el sistema tiene que permitir el acceso a las personas autorizaras, es decir, un 'cierto positivo' es cuando el sistema reconoce correctamente a una persona como autorizada a entrar en la base, y un 'cierto negativo' es cuando impide el acceso a una persona no autorizada. Cuáles de las siguientes afirmaciones te parecen correctas:**\n",
    "1. Tiene mayor coste un falso negativo, porque implica que una persona no autorizada entre a la base.\n",
    "1. Tiene un menor coste un falso negativo, porque sólo implica que la persona se identifique de otra forma ante el personal que controla el acceso.\n",
    "1. Tiene mayor coste un falso positivo, porque implica que una persona no autorizada entre a la base.\n",
    "1. Tiene un menor coste un falso positivo, porque sólo implica que la persona se identifique de otra forma ante el personal que controla el acceso."
   ]
  },
  {
   "cell_type": "markdown",
   "id": "f57a77cb",
   "metadata": {
    "_kg_hide-input": true,
    "papermill": {
     "duration": 0.003281,
     "end_time": "2023-01-16T07:56:58.497210",
     "exception": false,
     "start_time": "2023-01-16T07:56:58.493929",
     "status": "completed"
    },
    "tags": []
   },
   "source": [
    "Son correctas la 2 y la 3. Si un cierto positivo es permitir el acceso a una persona autorizada, un falso positivo es permitir el acceso a una persona no autorizada, que tiene más coste que un falso negativo, que es no permitir el acceso a una persona autorizada. Si no lo ves claro, no te preocupes, he tenido que revisar varias veces esta pregunta para asegurarme de que está bien ... y todavía tengo mis dudas ;)"
   ]
  },
  {
   "cell_type": "markdown",
   "id": "eb1ee768",
   "metadata": {
    "papermill": {
     "duration": 0.003327,
     "end_time": "2023-01-16T07:56:58.504166",
     "exception": false,
     "start_time": "2023-01-16T07:56:58.500839",
     "status": "completed"
    },
    "tags": []
   },
   "source": [
    "**5 - Después de entrenar un modelo de aprendizaje profundo de imagen digital nos encontramos con un ratio de error del 3%. La línea base, que en este caso es el ratio de error de los expertos en la materia, es del 1%. Cuáles de las siguientes afirmaciones te parecen correctas:**\n",
    "1. El paso a producción dependerá del coste de los falsos positivos o negativos.\n",
    "1. Es un ratio de error bajo, el modelo está listo para pasar a producción.\n",
    "1. Es un ratio de error mayor que la línea base, el modelo no está listo para pasar a producción.\n",
    "1. Si tenemos la posibilidad de partir de un modelo preentrenado, eso podría mejorar el resultado, aunque sabemos que será difícil mejorar el rendimiento de los expertos humanos."
   ]
  },
  {
   "cell_type": "markdown",
   "id": "2fd1a9bc",
   "metadata": {
    "_kg_hide-input": true,
    "papermill": {
     "duration": 0.003284,
     "end_time": "2023-01-16T07:56:58.511012",
     "exception": false,
     "start_time": "2023-01-16T07:56:58.507728",
     "status": "completed"
    },
    "tags": []
   },
   "source": [
    "Son correctas la 1 y la 4. El ratio de error por sí sólo no nos dice mucho, el paso a producción dependerá del coste asociado a los errores del modelo frente al beneficio de implantar un sistema automático. Por otra parte, en imagen digital la transferencia de aprendizaje partiendo de un modelo preentrenado puede mejorar notablemente el rendimiento de un modelo, aunque es raro encontrar modelos con mejor rendimiento que los expertos."
   ]
  },
  {
   "cell_type": "markdown",
   "id": "4a46474c",
   "metadata": {
    "papermill": {
     "duration": 0.0033,
     "end_time": "2023-01-16T07:56:58.518752",
     "exception": false,
     "start_time": "2023-01-16T07:56:58.515452",
     "status": "completed"
    },
    "tags": []
   },
   "source": [
    "**6 - El Servicio Navarro de Salud (SNS) nos encarga la contratación de la creación de un modelo de aprendizaje profundo para diagnosticar neumonías en tomografías computerizadas, pero advertimos que el conjunto de datos de entrenamiento de que dispone el SNS es pequeño. Osakidetza-Servicio Vasco de Salud nos cede amablemente su propio modelo, entrenado con sus propias tomografías. ¿Cuál de las siguientes afirmaciones te parece más correcta?**\n",
    "1. El modelo de Osakidetza no ha podido ser entrenado correctamente, por falta de datos: pocos vascos enferman de neumonía, y menos si son de Bilbao .\n",
    "1. No podemos usar el modelo de Osakidetza, debemos entrenar el modelo exclusivamente con las tomografías del SNS, para evitar posibles sesgos.\n",
    "1. No podemos usar el modelo de Osakidetza para evitar un posible sesgo, pero podemos obtener un buen resultado por transferencia de aprendizaje partiendo de un modelo preentrenado con imágenes del mundo real como [ImageNet](https://en.wikipedia.org/wiki/ImageNet).\n",
    "1. Probablemente el mejor resultado lo obtendremos mediante transferencia de aprendizaje, afinando el modelo (fine-tuning) cedido por Osakideltza reentrenándolo con las tomografías del SNS.\n",
    "1. Podemos poner en producción directamente el modelo cedido por Osakidetza.\n"
   ]
  },
  {
   "cell_type": "markdown",
   "id": "926c77ce",
   "metadata": {
    "_kg_hide-input": true,
    "papermill": {
     "duration": 0.003338,
     "end_time": "2023-01-16T07:56:58.525595",
     "exception": false,
     "start_time": "2023-01-16T07:56:58.522257",
     "status": "completed"
    },
    "tags": []
   },
   "source": [
    "La correcta es la 3. Si ponemos en producción directamente el modelo cedido, corremos el riesgo de que tenga algún sesgo que se ponga de manifiesto al usar el modelo con tomografías de una fuente diferente a la que se usó para entrenarlo. Podemos entrenar el modelo desde cero con nuestras tomografías, pero si el conjunto de datos de entrenamiento es pequeño obtendremos mejores resultados mediante transferencia de aprendizaje a partir de un modelo preentrenado con imágenes del mundo. Pero mejor todavía sería  afinar el modelo cedido por Osakideltza reentrenándolo con nuestras tomografías. De esta manera obtendremos mejores métricas y evitaremos el posible sesgo."
   ]
  },
  {
   "cell_type": "markdown",
   "id": "8b24f7f6",
   "metadata": {
    "papermill": {
     "duration": 0.003358,
     "end_time": "2023-01-16T07:56:58.532562",
     "exception": false,
     "start_time": "2023-01-16T07:56:58.529204",
     "status": "completed"
    },
    "tags": []
   },
   "source": [
    "**7 - En cuanto a la creación de conjuntos de datos de entrenamiento ¿Cuáles de las siguientes afirmaciones te parecen correctas?**\n",
    "1. Sería más fácil su obtención si en el momento de crear sistemas de información se incluyesen en los requisitos facilitar la futura explotación de la información que gestionan.\n",
    "1. Es costosa porque casi siempre se precisa trabajo manual, muchas veces por parte de expertos en la materia.\n",
    "1. Para algunos casos de uso hay herramientas que ayudan a los expertos. Por ejemplo, [Label Studio](https://labelstud.io/) para etiquetar conjuntos de datos para detección de objetos.\n",
    "1. Es más fácil obtenerlos para problemas de aprendizaje máquina no supervisado, ya que no hay que proporcionar la 'salida' correcta del modelo en cada ejemplo de entrenamiento."
   ]
  },
  {
   "cell_type": "markdown",
   "id": "89b83148",
   "metadata": {
    "_kg_hide-input": true,
    "papermill": {
     "duration": 0.00331,
     "end_time": "2023-01-16T07:56:58.539395",
     "exception": false,
     "start_time": "2023-01-16T07:56:58.536085",
     "status": "completed"
    },
    "tags": []
   },
   "source": [
    "Todas son ciertas.  Pocas veces pensamos en la futura explotación de los datos que gestionan nuestros sistemas de información, por lo que muchas veces se precisa mucho trabajo 'manual' en la creación de un dataset de entrenamiento, y aunque haya herramientas que ayudan, siempre resulta costoso. Por otra parte, en los casos de aprendizaje no supervisado no suele hacer falta mucho trabajo manual. Lamentablemente hay menos problemas que se puedan resolver con aprendizaje no supervisado."
   ]
  },
  {
   "cell_type": "markdown",
   "id": "8cdda403",
   "metadata": {
    "papermill": {
     "duration": 0.003377,
     "end_time": "2023-01-16T07:56:58.546604",
     "exception": false,
     "start_time": "2023-01-16T07:56:58.543227",
     "status": "completed"
    },
    "tags": []
   },
   "source": [
    "**8 - En el [repositorio de modelos de Huggingface](https://huggingface.co/models) hay muchos modelos que incluyen la palabra 'small' en su nombre. ¿Por qué te parece que puede ser? Elige una respuesta**\n",
    "1. Porque son modelos de NLP entrenados con textos en minúscula.\n",
    "1. Porque son versiones de un modelo con menos parámetros que sus 'hermanos mayores'.\n",
    "1. Porque son modelos preentrenados con pequeños conjuntos de datos de entrenamiento.\n",
    "1. Porque son modelos de imagen digital especializados en objetos pequeños."
   ]
  },
  {
   "cell_type": "markdown",
   "id": "eae6680e",
   "metadata": {
    "_kg_hide-input": true,
    "papermill": {
     "duration": 0.003373,
     "end_time": "2023-01-16T07:56:58.553574",
     "exception": false,
     "start_time": "2023-01-16T07:56:58.550201",
     "status": "completed"
    },
    "tags": []
   },
   "source": [
    "La correcta es la 2. Muchas veces los modelos preentrenados se publican con diferentes versiones con diferente número de parámetros."
   ]
  },
  {
   "cell_type": "markdown",
   "id": "f01676b9",
   "metadata": {
    "papermill": {
     "duration": 0.003265,
     "end_time": "2023-01-16T07:56:58.560310",
     "exception": false,
     "start_time": "2023-01-16T07:56:58.557045",
     "status": "completed"
    },
    "tags": []
   },
   "source": [
    "**9 - En cuanto a la transferencia de aprendizaje, cuáles de las siguientes afirmaciones te parecen correctas:**\n",
    "1. La única forma de aprovechar un conjunto de datos público es añadir sus datos a nuestros datos de entrenamiento, para entrenar nuestro modelo con más datos.\n",
    "1. Usar un modelo público preentrenado frente a usar un conjunto de datos público tiene la ventaja de que ahorramos en potencia de computación.\n",
    "1. Tanto los conjuntos de datos como los modelos públicos preentrenados pueden estar sesgados.\n",
    "1. Hay modelos preentrenados de altísima calidad accesibles sólo mediante el pago por uso."
   ]
  },
  {
   "cell_type": "markdown",
   "id": "43c3f166",
   "metadata": {
    "_kg_hide-input": true,
    "papermill": {
     "duration": 0.003355,
     "end_time": "2023-01-16T07:56:58.567129",
     "exception": false,
     "start_time": "2023-01-16T07:56:58.563774",
     "status": "completed"
    },
    "tags": []
   },
   "source": [
    "Son ciertas la 2, la 3 y la 4. Una forma de aprovechar un conjunto de datos público es entrenar con ellos un modelo y afinarlo después con nuestros propios datos, para evitar posibles sesgos en los datos públicos, sesgos que pueden aparecer tanto en datos como en modelos públicos. Partir de un modelo preentrenado y afinarlo con nuestros datos es menos costoso computacionalmente que entrenar un modelo completo con todos los datos. Por último, hay modelos como los de [OpenAI](https://openai.com/), accesibles por pago por uso, que se consideran los mejores en su campo."
   ]
  },
  {
   "cell_type": "markdown",
   "id": "5aad4b49",
   "metadata": {
    "papermill": {
     "duration": 0.003286,
     "end_time": "2023-01-16T07:56:58.573895",
     "exception": false,
     "start_time": "2023-01-16T07:56:58.570609",
     "status": "completed"
    },
    "tags": []
   },
   "source": [
    "**10 - En cuanto a los modelos de lenguaje ¿Cuáles de las siguientes afirmaciones te parecen correctas?**\n",
    "1. Un modelo de lenguaje se entrena para tareas sencillas, como por ejemplo predecir cómo continuar un texto.\n",
    "1. Un modelo de lenguaje se entrena siempre desde el principio para tareas complejas concretas, como la traducción entre idiomas.\n",
    "1. Se entrenan mediante aprendizaje no supervisado.\n",
    "1. Si la frase \"En un lugar de La Mancha\" forma parte del conjunto de de datos de entrenamiento las palabras \"En\", \"un\", \"lugar\", \"de\", \"La\" son variables de entrada del modelo, y el objetivo o salida es la palabra \"Mancha\".\n",
    "1. El proceso de entrenamiento se denomina aprendizaje autosupervisado."
   ]
  },
  {
   "cell_type": "markdown",
   "id": "4cb8ba98",
   "metadata": {
    "_kg_hide-input": true,
    "papermill": {
     "duration": 0.003295,
     "end_time": "2023-01-16T07:56:58.580616",
     "exception": false,
     "start_time": "2023-01-16T07:56:58.577321",
     "status": "completed"
    },
    "tags": []
   },
   "source": [
    "Son correctas la 1, la 4 y la 5. Habitualmente los casos de uso  más complejos se entrenan por transferencia de aprendizaje a partir de modelos de lenguaje entrenados para tareas sencillas, como predecir la continuación de un texto. El entrenamiento para esta tarea es supervisado: en los datos de entrenamiento tenemos como entrada el texto a continuar, y como objetivo la siguiente palabra del texto. Pero como obtener estos datos de entrenamiento es automático, se denomina aprendizaje autosupervisado."
   ]
  }
 ],
 "metadata": {
  "kernelspec": {
   "display_name": "Python 3",
   "language": "python",
   "name": "python3"
  },
  "language_info": {
   "codemirror_mode": {
    "name": "ipython",
    "version": 3
   },
   "file_extension": ".py",
   "mimetype": "text/x-python",
   "name": "python",
   "nbconvert_exporter": "python",
   "pygments_lexer": "ipython3",
   "version": "3.7.12"
  },
  "papermill": {
   "default_parameters": {},
   "duration": 8.278064,
   "end_time": "2023-01-16T07:56:59.204089",
   "environment_variables": {},
   "exception": null,
   "input_path": "__notebook__.ipynb",
   "output_path": "__notebook__.ipynb",
   "parameters": {},
   "start_time": "2023-01-16T07:56:50.926025",
   "version": "2.3.4"
  }
 },
 "nbformat": 4,
 "nbformat_minor": 5
}
