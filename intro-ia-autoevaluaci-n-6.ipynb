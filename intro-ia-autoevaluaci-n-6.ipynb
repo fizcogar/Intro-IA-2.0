{
 "cells": [
  {
   "cell_type": "markdown",
   "id": "35361cca",
   "metadata": {
    "papermill": {
     "duration": 0.004616,
     "end_time": "2023-01-16T08:01:59.169411",
     "exception": false,
     "start_time": "2023-01-16T08:01:59.164795",
     "status": "completed"
    },
    "tags": []
   },
   "source": [
    "# Ética e Inteligencia Artificial\n",
    "## Autoevaluación"
   ]
  },
  {
   "cell_type": "markdown",
   "id": "58eedcbd",
   "metadata": {
    "papermill": {
     "duration": 0.002864,
     "end_time": "2023-01-16T08:01:59.176037",
     "exception": false,
     "start_time": "2023-01-16T08:01:59.173173",
     "status": "completed"
    },
    "tags": []
   },
   "source": [
    "**1 - En los albores de la automoción, las primeras voces que alertaban de la necesidad de diseñar los automóviles pensando en la seguridad de los pasajeros eran tenidas por alarmistas ... sobre todo por parte de los fabricantes de automóviles. Cuáles de las siguientes afirmaciones te parecen razonables:**\n",
    "1. Para que las empresas dejen de usar la IA de manera poco ética es necesario que la ciudadanía sea consciente de los riesgos que conlleva esta práctica.\n",
    "1. La regulación del uso de la IA es imprescindible para limitar el uso poco ético.\n",
    "1. Corremos el riesgo de que la regulación sea demasiado garantista, limitando la innovación."
   ]
  },
  {
   "cell_type": "markdown",
   "id": "69e621be",
   "metadata": {
    "_kg_hide-input": true,
    "papermill": {
     "duration": 0.002773,
     "end_time": "2023-01-16T08:01:59.181932",
     "exception": false,
     "start_time": "2023-01-16T08:01:59.179159",
     "status": "completed"
    },
    "tags": []
   },
   "source": [
    "Todas son ciertas. La opinión pública forzó a que las medidas de seguidad fuesen obligatorias en los automóviles, y a pesar de ello el mundo de la automoción ha seguido avanzando hasta el día de hoy, en el que, por cierto, tenemos automóviles autónomos controlados por IA, más seguros que nunca."
   ]
  },
  {
   "cell_type": "markdown",
   "id": "02dac0fc",
   "metadata": {
    "papermill": {
     "duration": 0.002891,
     "end_time": "2023-01-16T08:01:59.188167",
     "exception": false,
     "start_time": "2023-01-16T08:01:59.185276",
     "status": "completed"
    },
    "tags": []
   },
   "source": [
    "**2 - En cuanto a la forma de aprender de los modelos de aprendizaje máquina y de los animales superiores, cuáles de las siguientes afirmaciones te parecen correctas:**\n",
    "1. Se parecen en que aprendemos con ejemplos, de los que extraemos patrones para aplicarlos después en situaciones desconocidas.\n",
    "1. Se diferencian en que los animales superiores no aprendemos patrones sesgados, y las IAs sí.\n",
    "1. El sesgo de las IAs es sólo un reflejo del de los humanos que las han creado.\n",
    "1. El sesgo en las IAs es un problema técnico, aunque sea de difícil solución."
   ]
  },
  {
   "cell_type": "markdown",
   "id": "9ce5587a",
   "metadata": {
    "_kg_hide-input": true,
    "papermill": {
     "duration": 0.002696,
     "end_time": "2023-01-16T08:01:59.193907",
     "exception": false,
     "start_time": "2023-01-16T08:01:59.191211",
     "status": "completed"
    },
    "tags": []
   },
   "source": [
    "Son ciertas la 1, la 3 y la 4. Un patrón sesgado poco ético que aprendemos los humanos se manifiesta en el lenguaje poco inclusivo que yo mismo he empleado inconscientemente en este curso :("
   ]
  },
  {
   "cell_type": "markdown",
   "id": "f3dd8e1d",
   "metadata": {
    "_kg_hide-input": true,
    "papermill": {
     "duration": 0.002682,
     "end_time": "2023-01-16T08:01:59.199520",
     "exception": false,
     "start_time": "2023-01-16T08:01:59.196838",
     "status": "completed"
    },
    "tags": []
   },
   "source": [
    "**3 - ¿El reconocimiento facial es un mal uso de la IA? Cuáles de estas afirmaciones te parecen correctas:**\n",
    "1. Siempre, porque atenta contra la normativa de protección de datos.\n",
    "1. Nunca, porque los modelos de aprendizaje máquina, una vez entrenados, no guardan información personal.\n",
    "1. Depende de si lo usa un gobierno o una empresa.\n",
    "1. Depende del caso de uso. No es lo mismo un control de acceso que el seguimiento represivo de ciudadanos de cierta etnia."
   ]
  },
  {
   "cell_type": "markdown",
   "id": "42aa696d",
   "metadata": {
    "_kg_hide-input": true,
    "papermill": {
     "duration": 0.002776,
     "end_time": "2023-01-16T08:01:59.205206",
     "exception": false,
     "start_time": "2023-01-16T08:01:59.202430",
     "status": "completed"
    },
    "tags": []
   },
   "source": [
    "Es correcta la 4. El buen o mal uso de esta y otras tecnologías basadas en IA (y de cualquier tecnología, en realidad) siempre dependerá del caso de uso concreto."
   ]
  },
  {
   "cell_type": "markdown",
   "id": "5b69cf55",
   "metadata": {
    "papermill": {
     "duration": 0.002741,
     "end_time": "2023-01-16T08:01:59.211152",
     "exception": false,
     "start_time": "2023-01-16T08:01:59.208411",
     "status": "completed"
    },
    "tags": []
   },
   "source": [
    "**4 - En cuanto a los algoritmos de recomendación de redes sociales basados en IA, cuáles de las siguientes afirmaciones te parecen correctas:**\n",
    "1. La función de pérdida está pensada para maximizar de alguna manera el tiempo que los usuarios permanecen 'enganchados' ante la pantalla.\n",
    "1. Priorizan la visualización de contenido cultural y educativo, para mantener interesados a los usuarios más jóvenes.\n",
    "1. Priorizan la visualización de *'Fake News'*, teorías de la conspiración o contenido sensacionalista."
   ]
  },
  {
   "cell_type": "markdown",
   "id": "260466a8",
   "metadata": {
    "_kg_hide-input": true,
    "papermill": {
     "duration": 0.002695,
     "end_time": "2023-01-16T08:01:59.216794",
     "exception": false,
     "start_time": "2023-01-16T08:01:59.214099",
     "status": "completed"
    },
    "tags": []
   },
   "source": [
    "Son correctas la 1 y la 3."
   ]
  },
  {
   "cell_type": "markdown",
   "id": "3a609b7c",
   "metadata": {
    "papermill": {
     "duration": 0.002812,
     "end_time": "2023-01-16T08:01:59.222569",
     "exception": false,
     "start_time": "2023-01-16T08:01:59.219757",
     "status": "completed"
    },
    "tags": []
   },
   "source": [
    "**5 - Si un modelo de lenguaje tiene un sesgo conocido ¿Puede ser reutilizado para reentrenarlo por transferencia de aprendizaje? Elije las respuestas que te parezcan correctas. Un consejo: piensa en los ejemplos de aprendizaje profundo que hemos visto en la parte 5 del curso.**\n",
    "1. Sí, porque aunque el nuevo modelo herede el sesgo, puede seguir siendo de utilidad.\n",
    "1. No, porque el nuevo modelo heredará el sesgo, haciéndolo inútil para cualquier tarea.\n",
    "1. Sí, porque dependiendo de la nueva tarea para la que se reentrene el modelo, el sesgo no se hereda.\n",
    "1. No, porque el sesgo hace imposible aplicar transferencia de aprendizaje."
   ]
  },
  {
   "cell_type": "markdown",
   "id": "d77d2a5f",
   "metadata": {
    "_kg_hide-input": true,
    "papermill": {
     "duration": 0.002664,
     "end_time": "2023-01-16T08:01:59.228143",
     "exception": false,
     "start_time": "2023-01-16T08:01:59.225479",
     "status": "completed"
    },
    "tags": []
   },
   "source": [
    "Son correctas la 1 y la 3. Un modelo con un sesgo conocido puede seguir siendo útil. Por ejemplo, la Covid-19 afecta poco a los niños. Sería comprensible que un conjunto de datos de entrenamiento sobre esta enfermedad tuviera pocos ejemplos de niños, por lo que el modelo resultante, o un modelo afinado a partir de éste, podría tener un sesgo que lo hiciese poco fiable aplicado a niños, pero seguiría siendo útil para los adultos. Por otra parte, aunque tuviésemos un modelo de lenguaje con sesgo de género, este sesgo dificilmente se iba a manifestar al afinarlo para crear un clasificador de diagnósticos odontológicos."
   ]
  },
  {
   "cell_type": "markdown",
   "id": "c72a4882",
   "metadata": {
    "papermill": {
     "duration": 0.002648,
     "end_time": "2023-01-16T08:01:59.233633",
     "exception": false,
     "start_time": "2023-01-16T08:01:59.230985",
     "status": "completed"
    },
    "tags": []
   },
   "source": [
    "**6 - Cuáles de las siguientes medidas te parece que pueden ayudar en el uso responsable de la IA en la Administración:**\n",
    "1. La publicación del código fuente y de los conjuntos de datos de entrenamiento\n",
    "1. Hacer uso de estas tecnologías sólo cuando exista una necesidad clara y un beneficio público\n",
    "1. Ser transparentes cuando la IA participa en la toma de decisiones \n",
    "1. Capacitar a los empleados públicos para que sean conscientes de los riesgos del uso de la IA"
   ]
  },
  {
   "cell_type": "markdown",
   "id": "638e51af",
   "metadata": {
    "_kg_hide-input": true,
    "papermill": {
     "duration": 0.002764,
     "end_time": "2023-01-16T08:01:59.239296",
     "exception": false,
     "start_time": "2023-01-16T08:01:59.236532",
     "status": "completed"
    },
    "tags": []
   },
   "source": [
    "Todas son correctas."
   ]
  }
 ],
 "metadata": {
  "kernelspec": {
   "display_name": "Python 3",
   "language": "python",
   "name": "python3"
  },
  "language_info": {
   "codemirror_mode": {
    "name": "ipython",
    "version": 3
   },
   "file_extension": ".py",
   "mimetype": "text/x-python",
   "name": "python",
   "nbconvert_exporter": "python",
   "pygments_lexer": "ipython3",
   "version": "3.7.12"
  },
  "papermill": {
   "default_parameters": {},
   "duration": 10.114468,
   "end_time": "2023-01-16T08:01:59.966395",
   "environment_variables": {},
   "exception": null,
   "input_path": "__notebook__.ipynb",
   "output_path": "__notebook__.ipynb",
   "parameters": {},
   "start_time": "2023-01-16T08:01:49.851927",
   "version": "2.3.4"
  }
 },
 "nbformat": 4,
 "nbformat_minor": 5
}
